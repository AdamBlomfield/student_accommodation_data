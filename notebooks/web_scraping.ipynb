{
 "cells": [
  {
   "cell_type": "markdown",
   "id": "431361a2",
   "metadata": {},
   "source": [
    "# Notebook Overview\n",
    "\n",
    "TLDR; Scrape Data, Create CSV file\n",
    "\n",
    "Scrape Data:\n",
    "* Request HTML from [My Student Halls](https://www.mystudenthalls.com/) site\n",
    "* Scrape for Property, Owner/Operator, Address, Link URL\n",
    "* Scrape for 1 x Type, Rent (p/w vs pcm), weeks\n",
    "* Add data for 1 to master df\n",
    "* Scrape for N x (Type, Rent (p/w vs pcm), weeks)\n",
    "* Add data for N to master df\n",
    "* Save as CSV\n",
    "* Scrape for Area (sqm vs sqft)"
   ]
  },
  {
   "cell_type": "markdown",
   "id": "805300a4",
   "metadata": {},
   "source": [
    "# Import Libraries"
   ]
  },
  {
   "cell_type": "code",
   "execution_count": 1,
   "id": "72e73607",
   "metadata": {
    "ExecuteTime": {
     "end_time": "2021-12-19T15:58:12.546353Z",
     "start_time": "2021-12-19T15:58:12.178569Z"
    }
   },
   "outputs": [],
   "source": [
    "# DataFrame\n",
    "import pandas as pd\n",
    "\n",
    "# Webscraping\n",
    "from bs4 import BeautifulSoup as bs\n",
    "import requests"
   ]
  },
  {
   "cell_type": "markdown",
   "id": "a95bbac7",
   "metadata": {},
   "source": [
    "# Creation of DataFrames"
   ]
  },
  {
   "cell_type": "code",
   "execution_count": 2,
   "id": "a5b34b51",
   "metadata": {
    "ExecuteTime": {
     "end_time": "2021-12-19T15:58:15.958600Z",
     "start_time": "2021-12-19T15:58:15.950367Z"
    }
   },
   "outputs": [],
   "source": [
    "# Initial DataFrame to scrape the URLs\n",
    "df_urls = pd.DataFrame(columns=['Property', 'url'])\n",
    "\n",
    "# Column headings to be used in DataFrame\n",
    "cols = ['Property', 'Owner / Operator', 'Type', 'Rent pw',\n",
    "        'Rent pcm', 'Rent pa', 'Weeks', 'Area sqm', 'Area sqft',\n",
    "        '£psf pa', 'Address', 'url']\n",
    "\n",
    "# Master DataFrame to be populated\n",
    "df = pd.DataFrame(columns=cols)\n",
    "\n",
    "# Temporary DataFrame to be populated, added to Master DF then cleared\n",
    "df_temp = pd.DataFrame(columns=cols)"
   ]
  },
  {
   "cell_type": "markdown",
   "id": "fcc22723",
   "metadata": {},
   "source": [
    "# Which University?"
   ]
  },
  {
   "cell_type": "code",
   "execution_count": 3,
   "id": "ce3b543c",
   "metadata": {
    "ExecuteTime": {
     "end_time": "2021-12-19T15:58:32.257472Z",
     "start_time": "2021-12-19T15:58:28.121070Z"
    }
   },
   "outputs": [
    {
     "name": "stdout",
     "output_type": "stream",
     "text": [
      "Leeds\n"
     ]
    }
   ],
   "source": [
    "# To be filled in by user\n",
    "university = input()\n",
    "url_home = 'https://www.mystudenthalls.com/?s=' + university"
   ]
  },
  {
   "cell_type": "markdown",
   "id": "9b8974ef",
   "metadata": {},
   "source": [
    "# Web Scrape"
   ]
  },
  {
   "cell_type": "markdown",
   "id": "5b160244",
   "metadata": {},
   "source": [
    "## DF_URL (Scrape Property Names & associated URLs)"
   ]
  },
  {
   "cell_type": "code",
   "execution_count": 4,
   "id": "c38aa581",
   "metadata": {
    "ExecuteTime": {
     "end_time": "2021-12-19T15:59:24.984383Z",
     "start_time": "2021-12-19T15:59:23.741067Z"
    }
   },
   "outputs": [],
   "source": [
    "# Make a get request to retrieve the page\n",
    "html_page = requests.get(url_home)\n",
    "\n",
    "# Pass the page contents to beautiful soup for parsing\n",
    "soup = bs(html_page.text, 'html.parser')"
   ]
  },
  {
   "cell_type": "markdown",
   "id": "40bb9d39",
   "metadata": {},
   "source": [
    "### Scrape all property names at the university"
   ]
  },
  {
   "cell_type": "code",
   "execution_count": 5,
   "id": "eaac5ebd",
   "metadata": {
    "ExecuteTime": {
     "end_time": "2021-12-19T15:59:26.580372Z",
     "start_time": "2021-12-19T15:59:26.574157Z"
    }
   },
   "outputs": [],
   "source": [
    "# Retreive all property names\n",
    "all_properties = soup.find_all('div', class_='listing-detail')"
   ]
  },
  {
   "cell_type": "code",
   "execution_count": 6,
   "id": "99d6f094",
   "metadata": {
    "ExecuteTime": {
     "end_time": "2021-12-19T15:59:27.184537Z",
     "start_time": "2021-12-19T15:59:27.179660Z"
    }
   },
   "outputs": [],
   "source": [
    "# List for all the property names\n",
    "property_names = []\n",
    "for property_ in list(range(len(all_properties))):\n",
    "    # Scrape the name of the nth property\n",
    "    property_name = all_properties[property_].find(\"h2\").get_text()\n",
    "    # Add property name to the list of property names\n",
    "    property_names.append(property_name)\n",
    "    \n",
    "# Add list of all property names to DataFrame\n",
    "df_urls['Property'] = property_names"
   ]
  },
  {
   "cell_type": "markdown",
   "id": "db04d922",
   "metadata": {},
   "source": [
    "### Scrape all URLs for the properties"
   ]
  },
  {
   "cell_type": "code",
   "execution_count": 7,
   "id": "1516f831",
   "metadata": {
    "ExecuteTime": {
     "end_time": "2021-12-19T15:59:29.508170Z",
     "start_time": "2021-12-19T15:59:29.491648Z"
    }
   },
   "outputs": [
    {
     "data": {
      "text/html": [
       "<div>\n",
       "<style scoped>\n",
       "    .dataframe tbody tr th:only-of-type {\n",
       "        vertical-align: middle;\n",
       "    }\n",
       "\n",
       "    .dataframe tbody tr th {\n",
       "        vertical-align: top;\n",
       "    }\n",
       "\n",
       "    .dataframe thead th {\n",
       "        text-align: right;\n",
       "    }\n",
       "</style>\n",
       "<table border=\"1\" class=\"dataframe\">\n",
       "  <thead>\n",
       "    <tr style=\"text-align: right;\">\n",
       "      <th></th>\n",
       "      <th>Property</th>\n",
       "      <th>url</th>\n",
       "    </tr>\n",
       "  </thead>\n",
       "  <tbody>\n",
       "    <tr>\n",
       "      <th>0</th>\n",
       "      <td>The Refinery</td>\n",
       "      <td>https://www.mystudenthalls.com/student-accommo...</td>\n",
       "    </tr>\n",
       "    <tr>\n",
       "      <th>1</th>\n",
       "      <td>The Foundry</td>\n",
       "      <td>https://www.mystudenthalls.com/student-accommo...</td>\n",
       "    </tr>\n",
       "  </tbody>\n",
       "</table>\n",
       "</div>"
      ],
      "text/plain": [
       "       Property                                                url\n",
       "0  The Refinery  https://www.mystudenthalls.com/student-accommo...\n",
       "1   The Foundry  https://www.mystudenthalls.com/student-accommo..."
      ]
     },
     "execution_count": 7,
     "metadata": {},
     "output_type": "execute_result"
    }
   ],
   "source": [
    "# Create a list of the properties' url links\n",
    "links = []\n",
    "for property_ in list(range(len(all_properties))):\n",
    "    link = all_properties[property_].h2.a['href']\n",
    "    links.append(link)\n",
    "    \n",
    "# Add List of properties' url links to df_url\n",
    "df_urls['url'] = links\n",
    "\n",
    "# Preview DataFrame\n",
    "df_urls.head(2)"
   ]
  },
  {
   "cell_type": "markdown",
   "id": "c87aaf5e",
   "metadata": {},
   "source": [
    "## DF_Temp (temporary dataframe to collect all data for 1 property)"
   ]
  },
  {
   "cell_type": "code",
   "execution_count": 8,
   "id": "0e1f3dfc",
   "metadata": {
    "ExecuteTime": {
     "end_time": "2021-12-19T15:01:38.857266Z",
     "start_time": "2021-12-19T15:01:37.978781Z"
    }
   },
   "outputs": [],
   "source": [
    "# n = 0\n",
    "\n",
    "# # nth property\n",
    "# url = df_urls['url'][n]\n",
    "\n",
    "# # Make a get request to retrieve the page\n",
    "# html_page = requests.get(url)\n",
    "\n",
    "# # Pass the page contents to beautiful soup for parsing\n",
    "# soup = bs(html_page.text, 'html.parser')"
   ]
  },
  {
   "cell_type": "markdown",
   "id": "144722bb",
   "metadata": {},
   "source": [
    "### Type"
   ]
  },
  {
   "cell_type": "code",
   "execution_count": 9,
   "id": "fbfcd77a",
   "metadata": {
    "ExecuteTime": {
     "end_time": "2021-12-19T15:01:38.865920Z",
     "start_time": "2021-12-19T15:01:38.859533Z"
    }
   },
   "outputs": [],
   "source": [
    "# # List for all the types of room at this property\n",
    "# rooms = soup.findAll('p', attrs={'class':'room_title'})\n",
    "\n",
    "# types = []\n",
    "# for room_num in list(range(len(rooms))):\n",
    "#     types.append(rooms[room_num].text)\n",
    "    \n",
    "# # Add Room Type to df_temp\n",
    "# df_temp['Type'] = types"
   ]
  },
  {
   "cell_type": "code",
   "execution_count": 8,
   "id": "2073c695",
   "metadata": {
    "ExecuteTime": {
     "end_time": "2021-12-19T15:59:52.270495Z",
     "start_time": "2021-12-19T15:59:52.267156Z"
    }
   },
   "outputs": [],
   "source": [
    "def func_type(soup):\n",
    "    # List for all the types of room at this property\n",
    "    rooms = soup.findAll('p', attrs={'class':'room_title'})\n",
    "\n",
    "    types = []\n",
    "    for room_num in list(range(len(rooms))):\n",
    "        types.append(rooms[room_num].text)\n",
    "\n",
    "    return types"
   ]
  },
  {
   "cell_type": "code",
   "execution_count": 23,
   "id": "e08bf093",
   "metadata": {
    "ExecuteTime": {
     "end_time": "2021-12-19T15:32:10.176258Z",
     "start_time": "2021-12-19T15:32:10.171855Z"
    }
   },
   "outputs": [],
   "source": [
    "# Add Room Type to df_temp\n",
    "# df_temp['Type'] = func_type(soup)"
   ]
  },
  {
   "cell_type": "markdown",
   "id": "bc02431d",
   "metadata": {},
   "source": [
    "### Rent PA"
   ]
  },
  {
   "cell_type": "code",
   "execution_count": 10,
   "id": "77bd8573",
   "metadata": {
    "ExecuteTime": {
     "end_time": "2021-12-19T15:01:38.873819Z",
     "start_time": "2021-12-19T15:01:38.867656Z"
    }
   },
   "outputs": [],
   "source": [
    "# # HTML that contains info we need for Rent PA\n",
    "# rents_pa = soup.findAll('li', attrs={'class':'tenancy'})\n",
    "\n",
    "# # Blank list to gather the different rents PA\n",
    "# rent_pa = []\n",
    "\n",
    "# # For each room, add the rent price to the blank list above\n",
    "# for rent_pa_num in list(range(len(rents_pa))):\n",
    "#     room_rent = rents_pa[rent_pa_num].text\n",
    "#     rent_pa.append(int(room_rent[13:-3].replace(',','')))\n",
    "\n",
    "# # Add Rent PA to df_temp\n",
    "# df_temp['Rent pa'] = rent_pa"
   ]
  },
  {
   "cell_type": "code",
   "execution_count": 9,
   "id": "243d372d",
   "metadata": {
    "ExecuteTime": {
     "end_time": "2021-12-19T15:59:59.731449Z",
     "start_time": "2021-12-19T15:59:59.726813Z"
    }
   },
   "outputs": [],
   "source": [
    "def func_rent_pa(soup):\n",
    "    # HTML that contains info we need for Rent PA\n",
    "    rents_pa = soup.findAll('li', attrs={'class':'tenancy'})\n",
    "\n",
    "    # Blank list to gather the different rents PA\n",
    "    rent_pa = []\n",
    "\n",
    "    # For each room, add the rent price to the blank list above\n",
    "    for rent_pa_num in list(range(len(rents_pa))):\n",
    "        room_rent = rents_pa[rent_pa_num].text\n",
    "        rent_pa.append(int(room_rent[13:-3].replace(',','')))\n",
    "    \n",
    "    return rent_pa"
   ]
  },
  {
   "cell_type": "markdown",
   "id": "08d358ff",
   "metadata": {},
   "source": [
    "### Weeks"
   ]
  },
  {
   "cell_type": "code",
   "execution_count": 11,
   "id": "61d80cd0",
   "metadata": {
    "ExecuteTime": {
     "end_time": "2021-12-19T15:01:38.881846Z",
     "start_time": "2021-12-19T15:01:38.875618Z"
    }
   },
   "outputs": [],
   "source": [
    "# # HTML that contains info we need for Weeks\n",
    "# weeks_data = soup.findAll('li', attrs={'class':'availability'})\n",
    "\n",
    "# # List of number of weeks room is available for in the year\n",
    "# weeks = []\n",
    "# for n in list(range(len(weeks_data)))[1::2]: #availablity tag also returns good/limited info of room, so we only want every other one\n",
    "#     # add only the number of weeks to the list\n",
    "#     weeks.append(int(weeks_data[n].text[7:9]))\n",
    "\n",
    "# # Add number of weeks to the dataframe    \n",
    "# df_temp['Weeks'] = weeks"
   ]
  },
  {
   "cell_type": "code",
   "execution_count": 10,
   "id": "e19fd7c7",
   "metadata": {
    "ExecuteTime": {
     "end_time": "2021-12-19T16:00:03.663789Z",
     "start_time": "2021-12-19T16:00:03.659458Z"
    }
   },
   "outputs": [],
   "source": [
    "def func_weeks(soup):\n",
    "    # HTML that contains info we need for Weeks\n",
    "    weeks_data = soup.findAll('li', attrs={'class':'availability'})\n",
    "\n",
    "    # List of number of weeks room is available for in the year\n",
    "    weeks = []\n",
    "    for n in list(range(len(weeks_data)))[1::2]: #availablity tag also returns good/limited info of room, so we only want every other one\n",
    "        # add only the number of weeks to the list\n",
    "        weeks.append(int(weeks_data[n].text[7:9]))\n",
    "    \n",
    "    return weeks"
   ]
  },
  {
   "cell_type": "markdown",
   "id": "98630f87",
   "metadata": {},
   "source": [
    "### Rent PW"
   ]
  },
  {
   "cell_type": "code",
   "execution_count": 12,
   "id": "c9d3f308",
   "metadata": {
    "ExecuteTime": {
     "end_time": "2021-12-19T15:01:38.890757Z",
     "start_time": "2021-12-19T15:01:38.886606Z"
    }
   },
   "outputs": [],
   "source": [
    "# df_temp['Rent pw'] = df_temp['Rent pa'] / df_temp['Weeks']"
   ]
  },
  {
   "cell_type": "markdown",
   "id": "02a4529c",
   "metadata": {},
   "source": [
    "### Rent PCM"
   ]
  },
  {
   "cell_type": "code",
   "execution_count": 13,
   "id": "28986485",
   "metadata": {
    "ExecuteTime": {
     "end_time": "2021-12-19T15:01:38.895692Z",
     "start_time": "2021-12-19T15:01:38.892477Z"
    }
   },
   "outputs": [],
   "source": [
    "# df_temp['Rent pcm'] = df_temp['Rent pa'] / 12"
   ]
  },
  {
   "cell_type": "markdown",
   "id": "f0f3c12b",
   "metadata": {},
   "source": [
    "### Address"
   ]
  },
  {
   "cell_type": "code",
   "execution_count": 14,
   "id": "e7d0572d",
   "metadata": {
    "ExecuteTime": {
     "end_time": "2021-12-19T15:01:38.903581Z",
     "start_time": "2021-12-19T15:01:38.897289Z"
    }
   },
   "outputs": [],
   "source": [
    "# HTML that contains info we need for Address\n",
    "address_data = soup.findAll('div', attrs={'class':'inner'})\n",
    "\n",
    "df_temp['Address'] = address_data[5].h3.text[9:]"
   ]
  },
  {
   "cell_type": "markdown",
   "id": "badd4f7b",
   "metadata": {},
   "source": [
    "### Owner/Operator"
   ]
  },
  {
   "cell_type": "code",
   "execution_count": 15,
   "id": "6cb71ebe",
   "metadata": {
    "ExecuteTime": {
     "end_time": "2021-12-19T15:01:38.910593Z",
     "start_time": "2021-12-19T15:01:38.905198Z"
    }
   },
   "outputs": [],
   "source": [
    "# # Scrape the Owner/Operator name\n",
    "# owner = soup.findAll('aside', attrs={'id':'sidebar-detail'})\n",
    "# owner = owner[0].h2.text\n",
    "\n",
    "# # Add Owner/Operator name to df_temp\n",
    "# df_temp['Owner / Operator'] = owner"
   ]
  },
  {
   "cell_type": "markdown",
   "id": "383df52a",
   "metadata": {},
   "source": [
    "### URL"
   ]
  },
  {
   "cell_type": "code",
   "execution_count": 16,
   "id": "9f17b033",
   "metadata": {
    "ExecuteTime": {
     "end_time": "2021-12-19T15:01:38.914990Z",
     "start_time": "2021-12-19T15:01:38.912535Z"
    }
   },
   "outputs": [],
   "source": [
    "# df_temp['url'] = url"
   ]
  },
  {
   "cell_type": "markdown",
   "id": "091c83dc",
   "metadata": {},
   "source": [
    "### Property"
   ]
  },
  {
   "cell_type": "code",
   "execution_count": 17,
   "id": "3eff6ebc",
   "metadata": {
    "ExecuteTime": {
     "end_time": "2021-12-19T15:01:38.919253Z",
     "start_time": "2021-12-19T15:01:38.916631Z"
    }
   },
   "outputs": [],
   "source": [
    "# df_temp['Property'] = df_urls['Property'][n]"
   ]
  },
  {
   "cell_type": "markdown",
   "id": "22608eba",
   "metadata": {},
   "source": [
    "## Function to populate df_temp"
   ]
  },
  {
   "cell_type": "code",
   "execution_count": 11,
   "id": "381b3bb5",
   "metadata": {
    "ExecuteTime": {
     "end_time": "2021-12-19T16:00:27.777887Z",
     "start_time": "2021-12-19T16:00:27.771031Z"
    }
   },
   "outputs": [],
   "source": [
    "def func_build_df_temp(n, soup):\n",
    "    '''Populate the df_temp dataframe\n",
    "    n: the property number as it appears in the list from the url_home\n",
    "    soup: beautiful soup of the nth property's url, to be parsed'''\n",
    "\n",
    "    # Column headings to be used in DataFrame\n",
    "    cols = ['Property', 'Owner / Operator', 'Type', 'Rent pw',\n",
    "        'Rent pcm', 'Rent pa', 'Weeks', 'Area sqm', 'Area sqft',\n",
    "        '£psf pa', 'Address', 'url']\n",
    "\n",
    "    # Temporary DataFrame to be populated, added to Master DF then cleared\n",
    "    df_temp = pd.DataFrame(columns=cols)\n",
    "    \n",
    "    # Type\n",
    "    df_temp['Type'] = func_type(soup)\n",
    "    # RentPA\n",
    "    df_temp['Rent pa'] = func_rent_pa(soup)\n",
    "    # Weeks\n",
    "    df_temp['Weeks'] = func_weeks(soup)\n",
    "    # RentPW\n",
    "    df_temp['Rent pw'] = df_temp['Rent pa'] / df_temp['Weeks']\n",
    "    # RentPCM\n",
    "    df_temp['Rent pcm'] = df_temp['Rent pa'] / 12\n",
    "    # Address\n",
    "    # HTML that contains info we need for Address\n",
    "    df_temp['Address'] = soup.findAll('div',attrs={'class':'inner'})[5].h3.text[9:]\n",
    "    # Owner/Operator\n",
    "    df_temp['Owner / Operator'] = soup.findAll('aside', attrs={'id':'sidebar-detail'})[0].h2.text\n",
    "    # URL\n",
    "    df_temp['url'] = df_urls['url'][n]\n",
    "    # Property\n",
    "    df_temp['Property'] = df_urls['Property'][n]\n",
    "    \n",
    "    return df_temp"
   ]
  },
  {
   "cell_type": "code",
   "execution_count": 12,
   "id": "118e3915",
   "metadata": {
    "ExecuteTime": {
     "end_time": "2021-12-19T16:00:47.616836Z",
     "start_time": "2021-12-19T16:00:29.782971Z"
    }
   },
   "outputs": [],
   "source": [
    "for n in list(range(len(df_urls))):\n",
    "    # Make a get request to retrieve the nth property's url page\n",
    "    html_page = requests.get(df_urls['url'][n])\n",
    "\n",
    "    # Pass the page contents to beautiful soup for parsing\n",
    "    soup = bs(html_page.text, 'html.parser')\n",
    "    \n",
    "    # Build df_temp of nth property\n",
    "    df_temp = func_build_df_temp(n, soup)\n",
    "    \n",
    "    # Concatenate (add) df_temp to df\n",
    "    df = pd.concat([df, df_temp])        \n",
    "\n",
    "    # Clear df_temp\n",
    "    df_temp = pd.DataFrame(columns=cols)"
   ]
  },
  {
   "cell_type": "code",
   "execution_count": 13,
   "id": "0ccafa26",
   "metadata": {
    "ExecuteTime": {
     "end_time": "2021-12-19T16:00:48.186012Z",
     "start_time": "2021-12-19T16:00:48.170136Z"
    }
   },
   "outputs": [
    {
     "data": {
      "text/html": [
       "<div>\n",
       "<style scoped>\n",
       "    .dataframe tbody tr th:only-of-type {\n",
       "        vertical-align: middle;\n",
       "    }\n",
       "\n",
       "    .dataframe tbody tr th {\n",
       "        vertical-align: top;\n",
       "    }\n",
       "\n",
       "    .dataframe thead th {\n",
       "        text-align: right;\n",
       "    }\n",
       "</style>\n",
       "<table border=\"1\" class=\"dataframe\">\n",
       "  <thead>\n",
       "    <tr style=\"text-align: right;\">\n",
       "      <th></th>\n",
       "      <th>Property</th>\n",
       "      <th>Owner / Operator</th>\n",
       "      <th>Type</th>\n",
       "      <th>Rent pw</th>\n",
       "      <th>Rent pcm</th>\n",
       "      <th>Rent pa</th>\n",
       "      <th>Weeks</th>\n",
       "      <th>Area sqm</th>\n",
       "      <th>Area sqft</th>\n",
       "      <th>£psf pa</th>\n",
       "      <th>Address</th>\n",
       "      <th>url</th>\n",
       "    </tr>\n",
       "  </thead>\n",
       "  <tbody>\n",
       "    <tr>\n",
       "      <th>0</th>\n",
       "      <td>The Refinery</td>\n",
       "      <td>Fresh</td>\n",
       "      <td>Bronze En Suite</td>\n",
       "      <td>169.0</td>\n",
       "      <td>619.666667</td>\n",
       "      <td>7436</td>\n",
       "      <td>44</td>\n",
       "      <td>NaN</td>\n",
       "      <td>NaN</td>\n",
       "      <td>NaN</td>\n",
       "      <td>Bingley Street, Leeds, Leeds, LS3 1BZ</td>\n",
       "      <td>https://www.mystudenthalls.com/student-accommo...</td>\n",
       "    </tr>\n",
       "    <tr>\n",
       "      <th>1</th>\n",
       "      <td>The Refinery</td>\n",
       "      <td>Fresh</td>\n",
       "      <td>Bronze En Suite</td>\n",
       "      <td>164.0</td>\n",
       "      <td>697.000000</td>\n",
       "      <td>8364</td>\n",
       "      <td>51</td>\n",
       "      <td>NaN</td>\n",
       "      <td>NaN</td>\n",
       "      <td>NaN</td>\n",
       "      <td>Bingley Street, Leeds, Leeds, LS3 1BZ</td>\n",
       "      <td>https://www.mystudenthalls.com/student-accommo...</td>\n",
       "    </tr>\n",
       "    <tr>\n",
       "      <th>2</th>\n",
       "      <td>The Refinery</td>\n",
       "      <td>Fresh</td>\n",
       "      <td>Silver En Suite</td>\n",
       "      <td>171.0</td>\n",
       "      <td>627.000000</td>\n",
       "      <td>7524</td>\n",
       "      <td>44</td>\n",
       "      <td>NaN</td>\n",
       "      <td>NaN</td>\n",
       "      <td>NaN</td>\n",
       "      <td>Bingley Street, Leeds, Leeds, LS3 1BZ</td>\n",
       "      <td>https://www.mystudenthalls.com/student-accommo...</td>\n",
       "    </tr>\n",
       "    <tr>\n",
       "      <th>3</th>\n",
       "      <td>The Refinery</td>\n",
       "      <td>Fresh</td>\n",
       "      <td>Silver En Suite</td>\n",
       "      <td>166.0</td>\n",
       "      <td>705.500000</td>\n",
       "      <td>8466</td>\n",
       "      <td>51</td>\n",
       "      <td>NaN</td>\n",
       "      <td>NaN</td>\n",
       "      <td>NaN</td>\n",
       "      <td>Bingley Street, Leeds, Leeds, LS3 1BZ</td>\n",
       "      <td>https://www.mystudenthalls.com/student-accommo...</td>\n",
       "    </tr>\n",
       "    <tr>\n",
       "      <th>4</th>\n",
       "      <td>The Refinery</td>\n",
       "      <td>Fresh</td>\n",
       "      <td>Gold En Suite</td>\n",
       "      <td>174.0</td>\n",
       "      <td>638.000000</td>\n",
       "      <td>7656</td>\n",
       "      <td>44</td>\n",
       "      <td>NaN</td>\n",
       "      <td>NaN</td>\n",
       "      <td>NaN</td>\n",
       "      <td>Bingley Street, Leeds, Leeds, LS3 1BZ</td>\n",
       "      <td>https://www.mystudenthalls.com/student-accommo...</td>\n",
       "    </tr>\n",
       "    <tr>\n",
       "      <th>...</th>\n",
       "      <td>...</td>\n",
       "      <td>...</td>\n",
       "      <td>...</td>\n",
       "      <td>...</td>\n",
       "      <td>...</td>\n",
       "      <td>...</td>\n",
       "      <td>...</td>\n",
       "      <td>...</td>\n",
       "      <td>...</td>\n",
       "      <td>...</td>\n",
       "      <td>...</td>\n",
       "      <td>...</td>\n",
       "    </tr>\n",
       "    <tr>\n",
       "      <th>0</th>\n",
       "      <td>Oxley Residences</td>\n",
       "      <td>University of Leeds</td>\n",
       "      <td>Standard Room</td>\n",
       "      <td>92.0</td>\n",
       "      <td>322.000000</td>\n",
       "      <td>3864</td>\n",
       "      <td>42</td>\n",
       "      <td>NaN</td>\n",
       "      <td>NaN</td>\n",
       "      <td>NaN</td>\n",
       "      <td>Oxley Residences, Weetwood Lane, Leeds,  LS16 8HL</td>\n",
       "      <td>https://www.mystudenthalls.com/student-accommo...</td>\n",
       "    </tr>\n",
       "    <tr>\n",
       "      <th>1</th>\n",
       "      <td>Oxley Residences</td>\n",
       "      <td>University of Leeds</td>\n",
       "      <td>En-suite</td>\n",
       "      <td>117.0</td>\n",
       "      <td>409.500000</td>\n",
       "      <td>4914</td>\n",
       "      <td>42</td>\n",
       "      <td>NaN</td>\n",
       "      <td>NaN</td>\n",
       "      <td>NaN</td>\n",
       "      <td>Oxley Residences, Weetwood Lane, Leeds,  LS16 8HL</td>\n",
       "      <td>https://www.mystudenthalls.com/student-accommo...</td>\n",
       "    </tr>\n",
       "    <tr>\n",
       "      <th>0</th>\n",
       "      <td>Leeds University Smaller Residences</td>\n",
       "      <td>University of Leeds</td>\n",
       "      <td>Houses/ Flats - Shared bathroom</td>\n",
       "      <td>91.0</td>\n",
       "      <td>310.916667</td>\n",
       "      <td>3731</td>\n",
       "      <td>41</td>\n",
       "      <td>NaN</td>\n",
       "      <td>NaN</td>\n",
       "      <td>NaN</td>\n",
       "      <td>Variable: See above, Leeds, LS6 2BZ</td>\n",
       "      <td>https://www.mystudenthalls.com/student-accommo...</td>\n",
       "    </tr>\n",
       "    <tr>\n",
       "      <th>1</th>\n",
       "      <td>Leeds University Smaller Residences</td>\n",
       "      <td>University of Leeds</td>\n",
       "      <td>Houses/ Flats - Ensuite</td>\n",
       "      <td>126.0</td>\n",
       "      <td>430.500000</td>\n",
       "      <td>5166</td>\n",
       "      <td>41</td>\n",
       "      <td>NaN</td>\n",
       "      <td>NaN</td>\n",
       "      <td>NaN</td>\n",
       "      <td>Variable: See above, Leeds, LS6 2BZ</td>\n",
       "      <td>https://www.mystudenthalls.com/student-accommo...</td>\n",
       "    </tr>\n",
       "    <tr>\n",
       "      <th>0</th>\n",
       "      <td>St Mark’s Court</td>\n",
       "      <td>Hello Student</td>\n",
       "      <td>Prices available from</td>\n",
       "      <td>163.0</td>\n",
       "      <td>692.750000</td>\n",
       "      <td>8313</td>\n",
       "      <td>51</td>\n",
       "      <td>NaN</td>\n",
       "      <td>NaN</td>\n",
       "      <td>NaN</td>\n",
       "      <td>St Marks Court, St Marks Road, Leeds, LS6 2QJ</td>\n",
       "      <td>https://www.mystudenthalls.com/student-accommo...</td>\n",
       "    </tr>\n",
       "  </tbody>\n",
       "</table>\n",
       "<p>153 rows × 12 columns</p>\n",
       "</div>"
      ],
      "text/plain": [
       "                               Property     Owner / Operator  \\\n",
       "0                          The Refinery               Fresh    \n",
       "1                          The Refinery               Fresh    \n",
       "2                          The Refinery               Fresh    \n",
       "3                          The Refinery               Fresh    \n",
       "4                          The Refinery               Fresh    \n",
       "..                                  ...                  ...   \n",
       "0                      Oxley Residences  University of Leeds   \n",
       "1                      Oxley Residences  University of Leeds   \n",
       "0   Leeds University Smaller Residences  University of Leeds   \n",
       "1   Leeds University Smaller Residences  University of Leeds   \n",
       "0                       St Mark’s Court        Hello Student   \n",
       "\n",
       "                                Type  Rent pw    Rent pcm Rent pa Weeks  \\\n",
       "0                    Bronze En Suite    169.0  619.666667    7436    44   \n",
       "1                    Bronze En Suite    164.0  697.000000    8364    51   \n",
       "2                    Silver En Suite    171.0  627.000000    7524    44   \n",
       "3                    Silver En Suite    166.0  705.500000    8466    51   \n",
       "4                      Gold En Suite    174.0  638.000000    7656    44   \n",
       "..                               ...      ...         ...     ...   ...   \n",
       "0                      Standard Room     92.0  322.000000    3864    42   \n",
       "1                           En-suite    117.0  409.500000    4914    42   \n",
       "0   Houses/ Flats - Shared bathroom      91.0  310.916667    3731    41   \n",
       "1            Houses/ Flats - Ensuite    126.0  430.500000    5166    41   \n",
       "0              Prices available from    163.0  692.750000    8313    51   \n",
       "\n",
       "   Area sqm Area sqft £psf pa  \\\n",
       "0       NaN       NaN     NaN   \n",
       "1       NaN       NaN     NaN   \n",
       "2       NaN       NaN     NaN   \n",
       "3       NaN       NaN     NaN   \n",
       "4       NaN       NaN     NaN   \n",
       "..      ...       ...     ...   \n",
       "0       NaN       NaN     NaN   \n",
       "1       NaN       NaN     NaN   \n",
       "0       NaN       NaN     NaN   \n",
       "1       NaN       NaN     NaN   \n",
       "0       NaN       NaN     NaN   \n",
       "\n",
       "                                              Address  \\\n",
       "0               Bingley Street, Leeds, Leeds, LS3 1BZ   \n",
       "1               Bingley Street, Leeds, Leeds, LS3 1BZ   \n",
       "2               Bingley Street, Leeds, Leeds, LS3 1BZ   \n",
       "3               Bingley Street, Leeds, Leeds, LS3 1BZ   \n",
       "4               Bingley Street, Leeds, Leeds, LS3 1BZ   \n",
       "..                                                ...   \n",
       "0   Oxley Residences, Weetwood Lane, Leeds,  LS16 8HL   \n",
       "1   Oxley Residences, Weetwood Lane, Leeds,  LS16 8HL   \n",
       "0                 Variable: See above, Leeds, LS6 2BZ   \n",
       "1                 Variable: See above, Leeds, LS6 2BZ   \n",
       "0       St Marks Court, St Marks Road, Leeds, LS6 2QJ   \n",
       "\n",
       "                                                  url  \n",
       "0   https://www.mystudenthalls.com/student-accommo...  \n",
       "1   https://www.mystudenthalls.com/student-accommo...  \n",
       "2   https://www.mystudenthalls.com/student-accommo...  \n",
       "3   https://www.mystudenthalls.com/student-accommo...  \n",
       "4   https://www.mystudenthalls.com/student-accommo...  \n",
       "..                                                ...  \n",
       "0   https://www.mystudenthalls.com/student-accommo...  \n",
       "1   https://www.mystudenthalls.com/student-accommo...  \n",
       "0   https://www.mystudenthalls.com/student-accommo...  \n",
       "1   https://www.mystudenthalls.com/student-accommo...  \n",
       "0   https://www.mystudenthalls.com/student-accommo...  \n",
       "\n",
       "[153 rows x 12 columns]"
      ]
     },
     "execution_count": 13,
     "metadata": {},
     "output_type": "execute_result"
    }
   ],
   "source": [
    "df"
   ]
  },
  {
   "cell_type": "markdown",
   "id": "5e02e352",
   "metadata": {},
   "source": [
    "## Add df_temp to df and clear df_temp"
   ]
  },
  {
   "cell_type": "code",
   "execution_count": null,
   "id": "5b3cf25c",
   "metadata": {},
   "outputs": [],
   "source": []
  }
 ],
 "metadata": {
  "kernelspec": {
   "display_name": "Python 3 (ipykernel)",
   "language": "python",
   "name": "python3"
  },
  "language_info": {
   "codemirror_mode": {
    "name": "ipython",
    "version": 3
   },
   "file_extension": ".py",
   "mimetype": "text/x-python",
   "name": "python",
   "nbconvert_exporter": "python",
   "pygments_lexer": "ipython3",
   "version": "3.8.5"
  },
  "toc": {
   "base_numbering": 1,
   "nav_menu": {},
   "number_sections": true,
   "sideBar": true,
   "skip_h1_title": false,
   "title_cell": "Table of Contents",
   "title_sidebar": "Contents",
   "toc_cell": false,
   "toc_position": {},
   "toc_section_display": true,
   "toc_window_display": false
  },
  "varInspector": {
   "cols": {
    "lenName": 16,
    "lenType": 16,
    "lenVar": 40
   },
   "kernels_config": {
    "python": {
     "delete_cmd_postfix": "",
     "delete_cmd_prefix": "del ",
     "library": "var_list.py",
     "varRefreshCmd": "print(var_dic_list())"
    },
    "r": {
     "delete_cmd_postfix": ") ",
     "delete_cmd_prefix": "rm(",
     "library": "var_list.r",
     "varRefreshCmd": "cat(var_dic_list()) "
    }
   },
   "types_to_exclude": [
    "module",
    "function",
    "builtin_function_or_method",
    "instance",
    "_Feature"
   ],
   "window_display": false
  }
 },
 "nbformat": 4,
 "nbformat_minor": 5
}
