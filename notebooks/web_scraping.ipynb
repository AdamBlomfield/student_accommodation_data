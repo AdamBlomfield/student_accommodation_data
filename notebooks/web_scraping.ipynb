{
 "cells": [
  {
   "cell_type": "markdown",
   "id": "a2ba4e79",
   "metadata": {},
   "source": [
    "# Notebook Overview\n",
    "\n",
    "TLDR; Scrape Data, Create CSV file\n",
    "\n",
    "Scrape Data:\n",
    "* Request HTML from [My Student Halls](https://www.mystudenthalls.com/) site\n",
    "* Scrape for Property, Owner/Operator, Address, Link URL\n",
    "* Scrape for 1 x Type, Rent (p/w vs pcm), weeks\n",
    "* Add data for 1 to master df\n",
    "* Scrape for N x (Type, Rent (p/w vs pcm), weeks)\n",
    "* Add data for N to master df\n",
    "* Save as CSV\n",
    "* Scrape for Area (sqm vs sqft)"
   ]
  },
  {
   "cell_type": "markdown",
   "id": "2dc51d80",
   "metadata": {},
   "source": [
    "# Import Libraries"
   ]
  },
  {
   "cell_type": "code",
   "execution_count": 1,
   "id": "5117795a",
   "metadata": {
    "ExecuteTime": {
     "end_time": "2021-12-19T15:01:35.170094Z",
     "start_time": "2021-12-19T15:01:34.806428Z"
    }
   },
   "outputs": [],
   "source": [
    "# DataFrame\n",
    "import pandas as pd\n",
    "\n",
    "# Webscraping\n",
    "from bs4 import BeautifulSoup as bs\n",
    "import requests"
   ]
  },
  {
   "cell_type": "markdown",
   "id": "54d00042",
   "metadata": {},
   "source": [
    "# Creation of DataFrames"
   ]
  },
  {
   "cell_type": "code",
   "execution_count": 2,
   "id": "26471227",
   "metadata": {
    "ExecuteTime": {
     "end_time": "2021-12-19T15:01:35.179863Z",
     "start_time": "2021-12-19T15:01:35.172131Z"
    }
   },
   "outputs": [],
   "source": [
    "# Initial DataFrame to scrape the URLs\n",
    "df_urls = pd.DataFrame(columns=['Property', 'url'])\n",
    "\n",
    "# Column headings to be used in DataFrame\n",
    "cols = ['Property', 'Owner / Operator', 'Type', 'Rent pw',\n",
    "        'Rent pcm', 'Rent pa', 'Weeks', 'Area sqm', 'Area sqft',\n",
    "        '£psf pa', 'Address', 'url']\n",
    "\n",
    "# Master DataFrame to be populated\n",
    "df = pd.DataFrame(columns=cols)\n",
    "\n",
    "# Temporary DataFrame to be populated, added to Master DF then cleared\n",
    "df_temp = pd.DataFrame(columns=cols)"
   ]
  },
  {
   "cell_type": "markdown",
   "id": "4e89424b",
   "metadata": {},
   "source": [
    "# Which University?"
   ]
  },
  {
   "cell_type": "code",
   "execution_count": 3,
   "id": "d50b97fc",
   "metadata": {
    "ExecuteTime": {
     "end_time": "2021-12-19T15:01:36.626590Z",
     "start_time": "2021-12-19T15:01:35.183090Z"
    }
   },
   "outputs": [
    {
     "name": "stdout",
     "output_type": "stream",
     "text": [
      "Leeds\n"
     ]
    }
   ],
   "source": [
    "# To be filled in by user\n",
    "university = input()\n",
    "url_home = 'https://www.mystudenthalls.com/?s=' + university"
   ]
  },
  {
   "cell_type": "markdown",
   "id": "f68e93e2",
   "metadata": {},
   "source": [
    "# Web Scrape"
   ]
  },
  {
   "cell_type": "markdown",
   "id": "d5b1c11d",
   "metadata": {},
   "source": [
    "## DF_URL (Scrape Property Names & associated URLs)"
   ]
  },
  {
   "cell_type": "code",
   "execution_count": 4,
   "id": "b43afe85",
   "metadata": {
    "ExecuteTime": {
     "end_time": "2021-12-19T15:01:37.944385Z",
     "start_time": "2021-12-19T15:01:36.628522Z"
    }
   },
   "outputs": [],
   "source": [
    "# Make a get request to retrieve the page\n",
    "html_page = requests.get(url_home)\n",
    "\n",
    "# Pass the page contents to beautiful soup for parsing\n",
    "soup = bs(html_page.text, 'html.parser')"
   ]
  },
  {
   "cell_type": "markdown",
   "id": "ba01db72",
   "metadata": {
    "heading_collapsed": true
   },
   "source": [
    "### Scrape all property names at the university"
   ]
  },
  {
   "cell_type": "code",
   "execution_count": 5,
   "id": "29c9bf0d",
   "metadata": {
    "ExecuteTime": {
     "end_time": "2021-12-19T15:01:37.953159Z",
     "start_time": "2021-12-19T15:01:37.946036Z"
    },
    "hidden": true
   },
   "outputs": [],
   "source": [
    "# Retreive all property names\n",
    "all_properties = soup.find_all('div', class_='listing-detail')"
   ]
  },
  {
   "cell_type": "code",
   "execution_count": 6,
   "id": "e7f68323",
   "metadata": {
    "ExecuteTime": {
     "end_time": "2021-12-19T15:01:37.960454Z",
     "start_time": "2021-12-19T15:01:37.955163Z"
    },
    "hidden": true
   },
   "outputs": [],
   "source": [
    "# List for all the property names\n",
    "property_names = []\n",
    "for property_ in list(range(len(all_properties))):\n",
    "    # Scrape the name of the nth property\n",
    "    property_name = all_properties[property_].find(\"h2\").get_text()\n",
    "    # Add property name to the list of property names\n",
    "    property_names.append(property_name)\n",
    "    \n",
    "# Add list of all property names to DataFrame\n",
    "df_urls['Property'] = property_names"
   ]
  },
  {
   "cell_type": "markdown",
   "id": "f044ee64",
   "metadata": {},
   "source": [
    "### Scrape all URLs for the properties"
   ]
  },
  {
   "cell_type": "code",
   "execution_count": 7,
   "id": "d4493d71",
   "metadata": {
    "ExecuteTime": {
     "end_time": "2021-12-19T15:01:37.977057Z",
     "start_time": "2021-12-19T15:01:37.962474Z"
    }
   },
   "outputs": [
    {
     "data": {
      "text/html": [
       "<div>\n",
       "<style scoped>\n",
       "    .dataframe tbody tr th:only-of-type {\n",
       "        vertical-align: middle;\n",
       "    }\n",
       "\n",
       "    .dataframe tbody tr th {\n",
       "        vertical-align: top;\n",
       "    }\n",
       "\n",
       "    .dataframe thead th {\n",
       "        text-align: right;\n",
       "    }\n",
       "</style>\n",
       "<table border=\"1\" class=\"dataframe\">\n",
       "  <thead>\n",
       "    <tr style=\"text-align: right;\">\n",
       "      <th></th>\n",
       "      <th>Property</th>\n",
       "      <th>url</th>\n",
       "    </tr>\n",
       "  </thead>\n",
       "  <tbody>\n",
       "    <tr>\n",
       "      <th>0</th>\n",
       "      <td>The Foundry</td>\n",
       "      <td>https://www.mystudenthalls.com/student-accommo...</td>\n",
       "    </tr>\n",
       "    <tr>\n",
       "      <th>1</th>\n",
       "      <td>Asa Briggs House</td>\n",
       "      <td>https://www.mystudenthalls.com/student-accommo...</td>\n",
       "    </tr>\n",
       "  </tbody>\n",
       "</table>\n",
       "</div>"
      ],
      "text/plain": [
       "           Property                                                url\n",
       "0       The Foundry  https://www.mystudenthalls.com/student-accommo...\n",
       "1  Asa Briggs House  https://www.mystudenthalls.com/student-accommo..."
      ]
     },
     "execution_count": 7,
     "metadata": {},
     "output_type": "execute_result"
    }
   ],
   "source": [
    "# Create a list of the properties' url links\n",
    "links = []\n",
    "for property_ in list(range(len(all_properties))):\n",
    "    link = all_properties[property_].h2.a['href']\n",
    "    links.append(link)\n",
    "    \n",
    "# Add List of properties' url links to df_url\n",
    "df_urls['url'] = links\n",
    "\n",
    "# Preview DataFrame\n",
    "df_urls.head(2)"
   ]
  },
  {
   "cell_type": "markdown",
   "id": "064aa576",
   "metadata": {},
   "source": [
    "## DF_Temp (temporary dataframe to collect all data for 1 property)"
   ]
  },
  {
   "cell_type": "code",
   "execution_count": 8,
   "id": "05380be4",
   "metadata": {
    "ExecuteTime": {
     "end_time": "2021-12-19T15:01:38.857266Z",
     "start_time": "2021-12-19T15:01:37.978781Z"
    }
   },
   "outputs": [],
   "source": [
    "n = 0\n",
    "\n",
    "# nth property\n",
    "url = df_urls['url'][n]\n",
    "\n",
    "# Make a get request to retrieve the page\n",
    "html_page = requests.get(url)\n",
    "\n",
    "# Pass the page contents to beautiful soup for parsing\n",
    "soup = bs(html_page.text, 'html.parser')"
   ]
  },
  {
   "cell_type": "markdown",
   "id": "fce21e0a",
   "metadata": {
    "heading_collapsed": true
   },
   "source": [
    "### Type"
   ]
  },
  {
   "cell_type": "code",
   "execution_count": 9,
   "id": "d73dbba5",
   "metadata": {
    "ExecuteTime": {
     "end_time": "2021-12-19T15:01:38.865920Z",
     "start_time": "2021-12-19T15:01:38.859533Z"
    },
    "hidden": true
   },
   "outputs": [],
   "source": [
    "# # List for all the types of room at this property\n",
    "# rooms = soup.findAll('p', attrs={'class':'room_title'})\n",
    "\n",
    "# types = []\n",
    "# for room_num in list(range(len(rooms))):\n",
    "#     types.append(rooms[room_num].text)\n",
    "    \n",
    "# # Add Room Type to df_temp\n",
    "# df_temp['Type'] = types"
   ]
  },
  {
   "cell_type": "code",
   "execution_count": 22,
   "id": "1e8be808",
   "metadata": {
    "ExecuteTime": {
     "end_time": "2021-12-19T15:32:09.392511Z",
     "start_time": "2021-12-19T15:32:09.388617Z"
    },
    "hidden": true
   },
   "outputs": [],
   "source": [
    "def func_type(soup):\n",
    "    # List for all the types of room at this property\n",
    "    rooms = soup.findAll('p', attrs={'class':'room_title'})\n",
    "\n",
    "    types = []\n",
    "    for room_num in list(range(len(rooms))):\n",
    "        types.append(rooms[room_num].text)\n",
    "\n",
    "    return types"
   ]
  },
  {
   "cell_type": "code",
   "execution_count": 23,
   "id": "615c7f30",
   "metadata": {
    "ExecuteTime": {
     "end_time": "2021-12-19T15:32:10.176258Z",
     "start_time": "2021-12-19T15:32:10.171855Z"
    },
    "hidden": true
   },
   "outputs": [],
   "source": [
    "# Add Room Type to df_temp\n",
    "df_temp['Type'] = func_type(soup)"
   ]
  },
  {
   "cell_type": "markdown",
   "id": "d1891353",
   "metadata": {
    "heading_collapsed": true
   },
   "source": [
    "### Rent PA"
   ]
  },
  {
   "cell_type": "code",
   "execution_count": 10,
   "id": "ec892917",
   "metadata": {
    "ExecuteTime": {
     "end_time": "2021-12-19T15:01:38.873819Z",
     "start_time": "2021-12-19T15:01:38.867656Z"
    },
    "hidden": true
   },
   "outputs": [],
   "source": [
    "# # HTML that contains info we need for Rent PA\n",
    "# rents_pa = soup.findAll('li', attrs={'class':'tenancy'})\n",
    "\n",
    "# # Blank list to gather the different rents PA\n",
    "# rent_pa = []\n",
    "\n",
    "# # For each room, add the rent price to the blank list above\n",
    "# for rent_pa_num in list(range(len(rents_pa))):\n",
    "#     room_rent = rents_pa[rent_pa_num].text\n",
    "#     rent_pa.append(int(room_rent[13:-3].replace(',','')))\n",
    "\n",
    "# # Add Rent PA to df_temp\n",
    "# df_temp['Rent pa'] = rent_pa"
   ]
  },
  {
   "cell_type": "code",
   "execution_count": 26,
   "id": "41e65b1a",
   "metadata": {
    "ExecuteTime": {
     "end_time": "2021-12-19T15:38:56.163133Z",
     "start_time": "2021-12-19T15:38:56.158903Z"
    },
    "hidden": true
   },
   "outputs": [],
   "source": [
    "def func_rent_pa(soup):\n",
    "    # HTML that contains info we need for Rent PA\n",
    "    rents_pa = soup.findAll('li', attrs={'class':'tenancy'})\n",
    "\n",
    "    # Blank list to gather the different rents PA\n",
    "    rent_pa = []\n",
    "\n",
    "    # For each room, add the rent price to the blank list above\n",
    "    for rent_pa_num in list(range(len(rents_pa))):\n",
    "        room_rent = rents_pa[rent_pa_num].text\n",
    "        rent_pa.append(int(room_rent[13:-3].replace(',','')))\n",
    "    \n",
    "    return rent_pa"
   ]
  },
  {
   "cell_type": "markdown",
   "id": "d104f857",
   "metadata": {
    "heading_collapsed": true
   },
   "source": [
    "### Weeks"
   ]
  },
  {
   "cell_type": "code",
   "execution_count": 11,
   "id": "e3a5e2ba",
   "metadata": {
    "ExecuteTime": {
     "end_time": "2021-12-19T15:01:38.881846Z",
     "start_time": "2021-12-19T15:01:38.875618Z"
    },
    "hidden": true
   },
   "outputs": [],
   "source": [
    "# # HTML that contains info we need for Weeks\n",
    "# weeks_data = soup.findAll('li', attrs={'class':'availability'})\n",
    "\n",
    "# # List of number of weeks room is available for in the year\n",
    "# weeks = []\n",
    "# for n in list(range(len(weeks_data)))[1::2]: #availablity tag also returns good/limited info of room, so we only want every other one\n",
    "#     # add only the number of weeks to the list\n",
    "#     weeks.append(int(weeks_data[n].text[7:9]))\n",
    "\n",
    "# # Add number of weeks to the dataframe    \n",
    "# df_temp['Weeks'] = weeks"
   ]
  },
  {
   "cell_type": "code",
   "execution_count": 28,
   "id": "b88b33e7",
   "metadata": {
    "ExecuteTime": {
     "end_time": "2021-12-19T15:41:14.169835Z",
     "start_time": "2021-12-19T15:41:14.165726Z"
    },
    "hidden": true
   },
   "outputs": [],
   "source": [
    "def func_weeks(soup):\n",
    "    # HTML that contains info we need for Weeks\n",
    "    weeks_data = soup.findAll('li', attrs={'class':'availability'})\n",
    "\n",
    "    # List of number of weeks room is available for in the year\n",
    "    weeks = []\n",
    "    for n in list(range(len(weeks_data)))[1::2]: #availablity tag also returns good/limited info of room, so we only want every other one\n",
    "        # add only the number of weeks to the list\n",
    "        weeks.append(int(weeks_data[n].text[7:9]))\n",
    "    \n",
    "    return weeks"
   ]
  },
  {
   "cell_type": "markdown",
   "id": "c15a2659",
   "metadata": {
    "heading_collapsed": true
   },
   "source": [
    "### Rent PW"
   ]
  },
  {
   "cell_type": "code",
   "execution_count": 12,
   "id": "d98c795c",
   "metadata": {
    "ExecuteTime": {
     "end_time": "2021-12-19T15:01:38.890757Z",
     "start_time": "2021-12-19T15:01:38.886606Z"
    },
    "hidden": true
   },
   "outputs": [],
   "source": [
    "df_temp['Rent pw'] = df_temp['Rent pa'] / df_temp['Weeks']"
   ]
  },
  {
   "cell_type": "markdown",
   "id": "351c1f14",
   "metadata": {},
   "source": [
    "### Rent PCM"
   ]
  },
  {
   "cell_type": "code",
   "execution_count": 13,
   "id": "4f0bc1de",
   "metadata": {
    "ExecuteTime": {
     "end_time": "2021-12-19T15:01:38.895692Z",
     "start_time": "2021-12-19T15:01:38.892477Z"
    }
   },
   "outputs": [],
   "source": [
    "df_temp['Rent pcm'] = df_temp['Rent pa'] / 12"
   ]
  },
  {
   "cell_type": "markdown",
   "id": "3b375d47",
   "metadata": {},
   "source": [
    "### Address"
   ]
  },
  {
   "cell_type": "code",
   "execution_count": 14,
   "id": "7aebd131",
   "metadata": {
    "ExecuteTime": {
     "end_time": "2021-12-19T15:01:38.903581Z",
     "start_time": "2021-12-19T15:01:38.897289Z"
    }
   },
   "outputs": [],
   "source": [
    "# HTML that contains info we need for Address\n",
    "address_data = soup.findAll('div', attrs={'class':'inner'})\n",
    "\n",
    "df_temp['Address'] = address_data[5].h3.text[9:]"
   ]
  },
  {
   "cell_type": "markdown",
   "id": "3ab62634",
   "metadata": {},
   "source": [
    "### Owner/Operator"
   ]
  },
  {
   "cell_type": "code",
   "execution_count": 15,
   "id": "5c83a594",
   "metadata": {
    "ExecuteTime": {
     "end_time": "2021-12-19T15:01:38.910593Z",
     "start_time": "2021-12-19T15:01:38.905198Z"
    }
   },
   "outputs": [],
   "source": [
    "# Scrape the Owner/Operator name\n",
    "owner = soup.findAll('aside', attrs={'id':'sidebar-detail'})\n",
    "owner = owner[0].h2.text\n",
    "\n",
    "# Add Owner/Operator name to df_temp\n",
    "df_temp['Owner / Operator'] = owner"
   ]
  },
  {
   "cell_type": "markdown",
   "id": "d5103530",
   "metadata": {},
   "source": [
    "### URL"
   ]
  },
  {
   "cell_type": "code",
   "execution_count": 16,
   "id": "2d9ba577",
   "metadata": {
    "ExecuteTime": {
     "end_time": "2021-12-19T15:01:38.914990Z",
     "start_time": "2021-12-19T15:01:38.912535Z"
    }
   },
   "outputs": [],
   "source": [
    "df_temp['url'] = url"
   ]
  },
  {
   "cell_type": "markdown",
   "id": "0ec53e35",
   "metadata": {},
   "source": [
    "### Property"
   ]
  },
  {
   "cell_type": "code",
   "execution_count": 17,
   "id": "1eb62752",
   "metadata": {
    "ExecuteTime": {
     "end_time": "2021-12-19T15:01:38.919253Z",
     "start_time": "2021-12-19T15:01:38.916631Z"
    }
   },
   "outputs": [],
   "source": [
    "df_temp['Property'] = df_urls['Property'][n]"
   ]
  },
  {
   "cell_type": "markdown",
   "id": "78384d7f",
   "metadata": {},
   "source": [
    "## Function to populate df_temp"
   ]
  },
  {
   "cell_type": "code",
   "execution_count": 29,
   "id": "6dafa403",
   "metadata": {
    "ExecuteTime": {
     "end_time": "2021-12-19T15:45:34.065303Z",
     "start_time": "2021-12-19T15:45:34.060135Z"
    }
   },
   "outputs": [],
   "source": [
    "def func_build_df_temp(n, soup):\n",
    "    '''Populate the df_temp dataframe\n",
    "    n: the property number as it appears in the list from the url_home\n",
    "    soup: beautiful soup of the nth property's url, to be parsed'''\n",
    "\n",
    "    # Column headings to be used in DataFrame\n",
    "    cols = ['Property', 'Owner / Operator', 'Type', 'Rent pw',\n",
    "        'Rent pcm', 'Rent pa', 'Weeks', 'Area sqm', 'Area sqft',\n",
    "        '£psf pa', 'Address', 'url']\n",
    "\n",
    "    # Temporary DataFrame to be populated, added to Master DF then cleared\n",
    "    df_temp = pd.DataFrame(columns=cols)\n",
    "    \n",
    "    # Type\n",
    "    df_temp['Type'] = func_type(soup)\n",
    "    # RentPA\n",
    "    df_temp['Rent pa'] = func_rent_pa(soup)\n",
    "    # Weeks\n",
    "    df_temp['Weeks'] = func_weeks(soup)\n",
    "    # RentPW\n",
    "    df_temp['Rent pw'] = df_temp['Rent pa'] / df_temp['Weeks']\n",
    "    # RentPCM\n",
    "    df_temp['Rent pcm'] = df_temp['Rent pa'] / 12\n",
    "    # Address\n",
    "    # HTML that contains info we need for Address\n",
    "    df_temp['Address'] = soup.findAll('div',attrs={'class':'inner'})[5].h3.text[9:]\n",
    "    # Owner/Operator\n",
    "    df_temp['Owner / Operator'] = soup.findAll('aside', attrs={'id':'sidebar-detail'})[0].h2.text\n",
    "    # URL\n",
    "    df_temp['url'] = df_urls['url'][n]\n",
    "    # Property\n",
    "    df_temp['Property'] = df_urls['Property'][n]\n",
    "    \n",
    "    return df_temp"
   ]
  },
  {
   "cell_type": "code",
   "execution_count": 33,
   "id": "bdd3f033",
   "metadata": {
    "ExecuteTime": {
     "end_time": "2021-12-19T15:46:53.347798Z",
     "start_time": "2021-12-19T15:46:52.651629Z"
    }
   },
   "outputs": [
    {
     "data": {
      "text/html": [
       "<div>\n",
       "<style scoped>\n",
       "    .dataframe tbody tr th:only-of-type {\n",
       "        vertical-align: middle;\n",
       "    }\n",
       "\n",
       "    .dataframe tbody tr th {\n",
       "        vertical-align: top;\n",
       "    }\n",
       "\n",
       "    .dataframe thead th {\n",
       "        text-align: right;\n",
       "    }\n",
       "</style>\n",
       "<table border=\"1\" class=\"dataframe\">\n",
       "  <thead>\n",
       "    <tr style=\"text-align: right;\">\n",
       "      <th></th>\n",
       "      <th>Property</th>\n",
       "      <th>Owner / Operator</th>\n",
       "      <th>Type</th>\n",
       "      <th>Rent pw</th>\n",
       "      <th>Rent pcm</th>\n",
       "      <th>Rent pa</th>\n",
       "      <th>Weeks</th>\n",
       "      <th>Area sqm</th>\n",
       "      <th>Area sqft</th>\n",
       "      <th>£psf pa</th>\n",
       "      <th>Address</th>\n",
       "      <th>url</th>\n",
       "    </tr>\n",
       "  </thead>\n",
       "  <tbody>\n",
       "    <tr>\n",
       "      <th>0</th>\n",
       "      <td>Asa Briggs House</td>\n",
       "      <td>Asa Briggs House</td>\n",
       "      <td>Bronze En-Suite</td>\n",
       "      <td>169.0</td>\n",
       "      <td>718.250000</td>\n",
       "      <td>8619</td>\n",
       "      <td>51</td>\n",
       "      <td>NaN</td>\n",
       "      <td>NaN</td>\n",
       "      <td>NaN</td>\n",
       "      <td>Asa Briggs House, 6 St John's Rd, Woodhouse, L...</td>\n",
       "      <td>https://www.mystudenthalls.com/student-accommo...</td>\n",
       "    </tr>\n",
       "    <tr>\n",
       "      <th>1</th>\n",
       "      <td>Asa Briggs House</td>\n",
       "      <td>Asa Briggs House</td>\n",
       "      <td>Bronze Plus En-Suite</td>\n",
       "      <td>173.0</td>\n",
       "      <td>735.250000</td>\n",
       "      <td>8823</td>\n",
       "      <td>51</td>\n",
       "      <td>NaN</td>\n",
       "      <td>NaN</td>\n",
       "      <td>NaN</td>\n",
       "      <td>Asa Briggs House, 6 St John's Rd, Woodhouse, L...</td>\n",
       "      <td>https://www.mystudenthalls.com/student-accommo...</td>\n",
       "    </tr>\n",
       "    <tr>\n",
       "      <th>2</th>\n",
       "      <td>Asa Briggs House</td>\n",
       "      <td>Asa Briggs House</td>\n",
       "      <td>Silver En-Suite</td>\n",
       "      <td>180.0</td>\n",
       "      <td>765.000000</td>\n",
       "      <td>9180</td>\n",
       "      <td>51</td>\n",
       "      <td>NaN</td>\n",
       "      <td>NaN</td>\n",
       "      <td>NaN</td>\n",
       "      <td>Asa Briggs House, 6 St John's Rd, Woodhouse, L...</td>\n",
       "      <td>https://www.mystudenthalls.com/student-accommo...</td>\n",
       "    </tr>\n",
       "    <tr>\n",
       "      <th>3</th>\n",
       "      <td>Asa Briggs House</td>\n",
       "      <td>Asa Briggs House</td>\n",
       "      <td>Gold En-Suite</td>\n",
       "      <td>187.0</td>\n",
       "      <td>794.750000</td>\n",
       "      <td>9537</td>\n",
       "      <td>51</td>\n",
       "      <td>NaN</td>\n",
       "      <td>NaN</td>\n",
       "      <td>NaN</td>\n",
       "      <td>Asa Briggs House, 6 St John's Rd, Woodhouse, L...</td>\n",
       "      <td>https://www.mystudenthalls.com/student-accommo...</td>\n",
       "    </tr>\n",
       "    <tr>\n",
       "      <th>4</th>\n",
       "      <td>Asa Briggs House</td>\n",
       "      <td>Asa Briggs House</td>\n",
       "      <td>Bronze Studio</td>\n",
       "      <td>210.0</td>\n",
       "      <td>892.500000</td>\n",
       "      <td>10710</td>\n",
       "      <td>51</td>\n",
       "      <td>NaN</td>\n",
       "      <td>NaN</td>\n",
       "      <td>NaN</td>\n",
       "      <td>Asa Briggs House, 6 St John's Rd, Woodhouse, L...</td>\n",
       "      <td>https://www.mystudenthalls.com/student-accommo...</td>\n",
       "    </tr>\n",
       "    <tr>\n",
       "      <th>5</th>\n",
       "      <td>Asa Briggs House</td>\n",
       "      <td>Asa Briggs House</td>\n",
       "      <td>Silver Studio</td>\n",
       "      <td>221.0</td>\n",
       "      <td>939.250000</td>\n",
       "      <td>11271</td>\n",
       "      <td>51</td>\n",
       "      <td>NaN</td>\n",
       "      <td>NaN</td>\n",
       "      <td>NaN</td>\n",
       "      <td>Asa Briggs House, 6 St John's Rd, Woodhouse, L...</td>\n",
       "      <td>https://www.mystudenthalls.com/student-accommo...</td>\n",
       "    </tr>\n",
       "    <tr>\n",
       "      <th>6</th>\n",
       "      <td>Asa Briggs House</td>\n",
       "      <td>Asa Briggs House</td>\n",
       "      <td>Gold Studio</td>\n",
       "      <td>231.0</td>\n",
       "      <td>981.750000</td>\n",
       "      <td>11781</td>\n",
       "      <td>51</td>\n",
       "      <td>NaN</td>\n",
       "      <td>NaN</td>\n",
       "      <td>NaN</td>\n",
       "      <td>Asa Briggs House, 6 St John's Rd, Woodhouse, L...</td>\n",
       "      <td>https://www.mystudenthalls.com/student-accommo...</td>\n",
       "    </tr>\n",
       "    <tr>\n",
       "      <th>7</th>\n",
       "      <td>Asa Briggs House</td>\n",
       "      <td>Asa Briggs House</td>\n",
       "      <td>Platinum Studio</td>\n",
       "      <td>245.0</td>\n",
       "      <td>1041.250000</td>\n",
       "      <td>12495</td>\n",
       "      <td>51</td>\n",
       "      <td>NaN</td>\n",
       "      <td>NaN</td>\n",
       "      <td>NaN</td>\n",
       "      <td>Asa Briggs House, 6 St John's Rd, Woodhouse, L...</td>\n",
       "      <td>https://www.mystudenthalls.com/student-accommo...</td>\n",
       "    </tr>\n",
       "    <tr>\n",
       "      <th>8</th>\n",
       "      <td>Asa Briggs House</td>\n",
       "      <td>Asa Briggs House</td>\n",
       "      <td>Platinum Plus Studio</td>\n",
       "      <td>255.0</td>\n",
       "      <td>1083.750000</td>\n",
       "      <td>13005</td>\n",
       "      <td>51</td>\n",
       "      <td>NaN</td>\n",
       "      <td>NaN</td>\n",
       "      <td>NaN</td>\n",
       "      <td>Asa Briggs House, 6 St John's Rd, Woodhouse, L...</td>\n",
       "      <td>https://www.mystudenthalls.com/student-accommo...</td>\n",
       "    </tr>\n",
       "    <tr>\n",
       "      <th>9</th>\n",
       "      <td>Asa Briggs House</td>\n",
       "      <td>Asa Briggs House</td>\n",
       "      <td>Bronze Plus En-suite</td>\n",
       "      <td>177.0</td>\n",
       "      <td>649.000000</td>\n",
       "      <td>7788</td>\n",
       "      <td>44</td>\n",
       "      <td>NaN</td>\n",
       "      <td>NaN</td>\n",
       "      <td>NaN</td>\n",
       "      <td>Asa Briggs House, 6 St John's Rd, Woodhouse, L...</td>\n",
       "      <td>https://www.mystudenthalls.com/student-accommo...</td>\n",
       "    </tr>\n",
       "    <tr>\n",
       "      <th>10</th>\n",
       "      <td>Asa Briggs House</td>\n",
       "      <td>Asa Briggs House</td>\n",
       "      <td>Silver En-suite</td>\n",
       "      <td>185.0</td>\n",
       "      <td>678.333333</td>\n",
       "      <td>8140</td>\n",
       "      <td>44</td>\n",
       "      <td>NaN</td>\n",
       "      <td>NaN</td>\n",
       "      <td>NaN</td>\n",
       "      <td>Asa Briggs House, 6 St John's Rd, Woodhouse, L...</td>\n",
       "      <td>https://www.mystudenthalls.com/student-accommo...</td>\n",
       "    </tr>\n",
       "  </tbody>\n",
       "</table>\n",
       "</div>"
      ],
      "text/plain": [
       "            Property   Owner / Operator                  Type  Rent pw  \\\n",
       "0   Asa Briggs House  Asa Briggs House        Bronze En-Suite    169.0   \n",
       "1   Asa Briggs House  Asa Briggs House   Bronze Plus En-Suite    173.0   \n",
       "2   Asa Briggs House  Asa Briggs House        Silver En-Suite    180.0   \n",
       "3   Asa Briggs House  Asa Briggs House          Gold En-Suite    187.0   \n",
       "4   Asa Briggs House  Asa Briggs House          Bronze Studio    210.0   \n",
       "5   Asa Briggs House  Asa Briggs House          Silver Studio    221.0   \n",
       "6   Asa Briggs House  Asa Briggs House            Gold Studio    231.0   \n",
       "7   Asa Briggs House  Asa Briggs House        Platinum Studio    245.0   \n",
       "8   Asa Briggs House  Asa Briggs House   Platinum Plus Studio    255.0   \n",
       "9   Asa Briggs House  Asa Briggs House   Bronze Plus En-suite    177.0   \n",
       "10  Asa Briggs House  Asa Briggs House        Silver En-suite    185.0   \n",
       "\n",
       "       Rent pcm  Rent pa  Weeks Area sqm Area sqft £psf pa  \\\n",
       "0    718.250000     8619     51      NaN       NaN     NaN   \n",
       "1    735.250000     8823     51      NaN       NaN     NaN   \n",
       "2    765.000000     9180     51      NaN       NaN     NaN   \n",
       "3    794.750000     9537     51      NaN       NaN     NaN   \n",
       "4    892.500000    10710     51      NaN       NaN     NaN   \n",
       "5    939.250000    11271     51      NaN       NaN     NaN   \n",
       "6    981.750000    11781     51      NaN       NaN     NaN   \n",
       "7   1041.250000    12495     51      NaN       NaN     NaN   \n",
       "8   1083.750000    13005     51      NaN       NaN     NaN   \n",
       "9    649.000000     7788     44      NaN       NaN     NaN   \n",
       "10   678.333333     8140     44      NaN       NaN     NaN   \n",
       "\n",
       "                                              Address  \\\n",
       "0   Asa Briggs House, 6 St John's Rd, Woodhouse, L...   \n",
       "1   Asa Briggs House, 6 St John's Rd, Woodhouse, L...   \n",
       "2   Asa Briggs House, 6 St John's Rd, Woodhouse, L...   \n",
       "3   Asa Briggs House, 6 St John's Rd, Woodhouse, L...   \n",
       "4   Asa Briggs House, 6 St John's Rd, Woodhouse, L...   \n",
       "5   Asa Briggs House, 6 St John's Rd, Woodhouse, L...   \n",
       "6   Asa Briggs House, 6 St John's Rd, Woodhouse, L...   \n",
       "7   Asa Briggs House, 6 St John's Rd, Woodhouse, L...   \n",
       "8   Asa Briggs House, 6 St John's Rd, Woodhouse, L...   \n",
       "9   Asa Briggs House, 6 St John's Rd, Woodhouse, L...   \n",
       "10  Asa Briggs House, 6 St John's Rd, Woodhouse, L...   \n",
       "\n",
       "                                                  url  \n",
       "0   https://www.mystudenthalls.com/student-accommo...  \n",
       "1   https://www.mystudenthalls.com/student-accommo...  \n",
       "2   https://www.mystudenthalls.com/student-accommo...  \n",
       "3   https://www.mystudenthalls.com/student-accommo...  \n",
       "4   https://www.mystudenthalls.com/student-accommo...  \n",
       "5   https://www.mystudenthalls.com/student-accommo...  \n",
       "6   https://www.mystudenthalls.com/student-accommo...  \n",
       "7   https://www.mystudenthalls.com/student-accommo...  \n",
       "8   https://www.mystudenthalls.com/student-accommo...  \n",
       "9   https://www.mystudenthalls.com/student-accommo...  \n",
       "10  https://www.mystudenthalls.com/student-accommo...  "
      ]
     },
     "execution_count": 33,
     "metadata": {},
     "output_type": "execute_result"
    }
   ],
   "source": [
    "n = 1\n",
    "\n",
    "# Make a get request to retrieve the page\n",
    "html_page = requests.get(df_urls['url'][n])\n",
    "\n",
    "# Pass the page contents to beautiful soup for parsing\n",
    "soup = bs(html_page.text, 'html.parser')\n",
    "\n",
    "func_build_df_temp(n, soup)"
   ]
  },
  {
   "cell_type": "markdown",
   "id": "d06b91c8",
   "metadata": {},
   "source": [
    "## Add df_temp to df and clear df_temp"
   ]
  },
  {
   "cell_type": "code",
   "execution_count": 18,
   "id": "a97ea646",
   "metadata": {
    "ExecuteTime": {
     "end_time": "2021-12-19T15:01:38.940506Z",
     "start_time": "2021-12-19T15:01:38.921313Z"
    },
    "collapsed": true
   },
   "outputs": [
    {
     "data": {
      "text/html": [
       "<div>\n",
       "<style scoped>\n",
       "    .dataframe tbody tr th:only-of-type {\n",
       "        vertical-align: middle;\n",
       "    }\n",
       "\n",
       "    .dataframe tbody tr th {\n",
       "        vertical-align: top;\n",
       "    }\n",
       "\n",
       "    .dataframe thead th {\n",
       "        text-align: right;\n",
       "    }\n",
       "</style>\n",
       "<table border=\"1\" class=\"dataframe\">\n",
       "  <thead>\n",
       "    <tr style=\"text-align: right;\">\n",
       "      <th></th>\n",
       "      <th>Property</th>\n",
       "      <th>Owner / Operator</th>\n",
       "      <th>Type</th>\n",
       "      <th>Rent pw</th>\n",
       "      <th>Rent pcm</th>\n",
       "      <th>Rent pa</th>\n",
       "      <th>Weeks</th>\n",
       "      <th>Area sqm</th>\n",
       "      <th>Area sqft</th>\n",
       "      <th>£psf pa</th>\n",
       "      <th>Address</th>\n",
       "      <th>url</th>\n",
       "    </tr>\n",
       "  </thead>\n",
       "  <tbody>\n",
       "    <tr>\n",
       "      <th>0</th>\n",
       "      <td>Symons House</td>\n",
       "      <td>Abodus Student Living</td>\n",
       "      <td>Standard En-suite</td>\n",
       "      <td>153.0</td>\n",
       "      <td>650.250000</td>\n",
       "      <td>7803</td>\n",
       "      <td>51</td>\n",
       "      <td>NaN</td>\n",
       "      <td>NaN</td>\n",
       "      <td>NaN</td>\n",
       "      <td>The Foundry, Cavendish Street, Leeds, LS3 IBN</td>\n",
       "      <td>https://www.mystudenthalls.com/student-accommo...</td>\n",
       "    </tr>\n",
       "    <tr>\n",
       "      <th>1</th>\n",
       "      <td>Symons House</td>\n",
       "      <td>Abodus Student Living</td>\n",
       "      <td>Standard En-suite</td>\n",
       "      <td>163.0</td>\n",
       "      <td>597.666667</td>\n",
       "      <td>7172</td>\n",
       "      <td>44</td>\n",
       "      <td>NaN</td>\n",
       "      <td>NaN</td>\n",
       "      <td>NaN</td>\n",
       "      <td>The Foundry, Cavendish Street, Leeds, LS3 IBN</td>\n",
       "      <td>https://www.mystudenthalls.com/student-accommo...</td>\n",
       "    </tr>\n",
       "    <tr>\n",
       "      <th>2</th>\n",
       "      <td>Symons House</td>\n",
       "      <td>Abodus Student Living</td>\n",
       "      <td>Standard Plus En-Suite</td>\n",
       "      <td>163.0</td>\n",
       "      <td>692.750000</td>\n",
       "      <td>8313</td>\n",
       "      <td>51</td>\n",
       "      <td>NaN</td>\n",
       "      <td>NaN</td>\n",
       "      <td>NaN</td>\n",
       "      <td>The Foundry, Cavendish Street, Leeds, LS3 IBN</td>\n",
       "      <td>https://www.mystudenthalls.com/student-accommo...</td>\n",
       "    </tr>\n",
       "    <tr>\n",
       "      <th>3</th>\n",
       "      <td>Symons House</td>\n",
       "      <td>Abodus Student Living</td>\n",
       "      <td>Standard Plus En-Suite</td>\n",
       "      <td>168.0</td>\n",
       "      <td>616.000000</td>\n",
       "      <td>7392</td>\n",
       "      <td>44</td>\n",
       "      <td>NaN</td>\n",
       "      <td>NaN</td>\n",
       "      <td>NaN</td>\n",
       "      <td>The Foundry, Cavendish Street, Leeds, LS3 IBN</td>\n",
       "      <td>https://www.mystudenthalls.com/student-accommo...</td>\n",
       "    </tr>\n",
       "    <tr>\n",
       "      <th>4</th>\n",
       "      <td>Symons House</td>\n",
       "      <td>Abodus Student Living</td>\n",
       "      <td>Premium En-Suite</td>\n",
       "      <td>168.0</td>\n",
       "      <td>714.000000</td>\n",
       "      <td>8568</td>\n",
       "      <td>51</td>\n",
       "      <td>NaN</td>\n",
       "      <td>NaN</td>\n",
       "      <td>NaN</td>\n",
       "      <td>The Foundry, Cavendish Street, Leeds, LS3 IBN</td>\n",
       "      <td>https://www.mystudenthalls.com/student-accommo...</td>\n",
       "    </tr>\n",
       "    <tr>\n",
       "      <th>5</th>\n",
       "      <td>Symons House</td>\n",
       "      <td>Abodus Student Living</td>\n",
       "      <td>Premium En-Suite</td>\n",
       "      <td>173.0</td>\n",
       "      <td>634.333333</td>\n",
       "      <td>7612</td>\n",
       "      <td>44</td>\n",
       "      <td>NaN</td>\n",
       "      <td>NaN</td>\n",
       "      <td>NaN</td>\n",
       "      <td>The Foundry, Cavendish Street, Leeds, LS3 IBN</td>\n",
       "      <td>https://www.mystudenthalls.com/student-accommo...</td>\n",
       "    </tr>\n",
       "    <tr>\n",
       "      <th>6</th>\n",
       "      <td>Symons House</td>\n",
       "      <td>Abodus Student Living</td>\n",
       "      <td>Deluxe En-suite</td>\n",
       "      <td>179.0</td>\n",
       "      <td>760.750000</td>\n",
       "      <td>9129</td>\n",
       "      <td>51</td>\n",
       "      <td>NaN</td>\n",
       "      <td>NaN</td>\n",
       "      <td>NaN</td>\n",
       "      <td>The Foundry, Cavendish Street, Leeds, LS3 IBN</td>\n",
       "      <td>https://www.mystudenthalls.com/student-accommo...</td>\n",
       "    </tr>\n",
       "    <tr>\n",
       "      <th>7</th>\n",
       "      <td>Symons House</td>\n",
       "      <td>Abodus Student Living</td>\n",
       "      <td>Standard Studio</td>\n",
       "      <td>195.0</td>\n",
       "      <td>828.750000</td>\n",
       "      <td>9945</td>\n",
       "      <td>51</td>\n",
       "      <td>NaN</td>\n",
       "      <td>NaN</td>\n",
       "      <td>NaN</td>\n",
       "      <td>The Foundry, Cavendish Street, Leeds, LS3 IBN</td>\n",
       "      <td>https://www.mystudenthalls.com/student-accommo...</td>\n",
       "    </tr>\n",
       "    <tr>\n",
       "      <th>8</th>\n",
       "      <td>Symons House</td>\n",
       "      <td>Abodus Student Living</td>\n",
       "      <td>Standard Plus Studio</td>\n",
       "      <td>239.0</td>\n",
       "      <td>1015.750000</td>\n",
       "      <td>12189</td>\n",
       "      <td>51</td>\n",
       "      <td>NaN</td>\n",
       "      <td>NaN</td>\n",
       "      <td>NaN</td>\n",
       "      <td>The Foundry, Cavendish Street, Leeds, LS3 IBN</td>\n",
       "      <td>https://www.mystudenthalls.com/student-accommo...</td>\n",
       "    </tr>\n",
       "    <tr>\n",
       "      <th>9</th>\n",
       "      <td>Symons House</td>\n",
       "      <td>Abodus Student Living</td>\n",
       "      <td>Standard Plus Studio Dual Occupancy</td>\n",
       "      <td>279.0</td>\n",
       "      <td>1185.750000</td>\n",
       "      <td>14229</td>\n",
       "      <td>51</td>\n",
       "      <td>NaN</td>\n",
       "      <td>NaN</td>\n",
       "      <td>NaN</td>\n",
       "      <td>The Foundry, Cavendish Street, Leeds, LS3 IBN</td>\n",
       "      <td>https://www.mystudenthalls.com/student-accommo...</td>\n",
       "    </tr>\n",
       "    <tr>\n",
       "      <th>10</th>\n",
       "      <td>Symons House</td>\n",
       "      <td>Abodus Student Living</td>\n",
       "      <td>Premium Studio</td>\n",
       "      <td>259.0</td>\n",
       "      <td>1100.750000</td>\n",
       "      <td>13209</td>\n",
       "      <td>51</td>\n",
       "      <td>NaN</td>\n",
       "      <td>NaN</td>\n",
       "      <td>NaN</td>\n",
       "      <td>The Foundry, Cavendish Street, Leeds, LS3 IBN</td>\n",
       "      <td>https://www.mystudenthalls.com/student-accommo...</td>\n",
       "    </tr>\n",
       "    <tr>\n",
       "      <th>11</th>\n",
       "      <td>Symons House</td>\n",
       "      <td>Abodus Student Living</td>\n",
       "      <td>Premium Studio (Dual Occupancy)</td>\n",
       "      <td>299.0</td>\n",
       "      <td>1270.750000</td>\n",
       "      <td>15249</td>\n",
       "      <td>51</td>\n",
       "      <td>NaN</td>\n",
       "      <td>NaN</td>\n",
       "      <td>NaN</td>\n",
       "      <td>The Foundry, Cavendish Street, Leeds, LS3 IBN</td>\n",
       "      <td>https://www.mystudenthalls.com/student-accommo...</td>\n",
       "    </tr>\n",
       "  </tbody>\n",
       "</table>\n",
       "</div>"
      ],
      "text/plain": [
       "        Property       Owner / Operator                                 Type  \\\n",
       "0   Symons House  Abodus Student Living                    Standard En-suite   \n",
       "1   Symons House  Abodus Student Living                    Standard En-suite   \n",
       "2   Symons House  Abodus Student Living              Standard Plus En-Suite    \n",
       "3   Symons House  Abodus Student Living              Standard Plus En-Suite    \n",
       "4   Symons House  Abodus Student Living                    Premium En-Suite    \n",
       "5   Symons House  Abodus Student Living                     Premium En-Suite   \n",
       "6   Symons House  Abodus Student Living                      Deluxe En-suite   \n",
       "7   Symons House  Abodus Student Living                      Standard Studio   \n",
       "8   Symons House  Abodus Student Living                Standard Plus Studio    \n",
       "9   Symons House  Abodus Student Living  Standard Plus Studio Dual Occupancy   \n",
       "10  Symons House  Abodus Student Living                       Premium Studio   \n",
       "11  Symons House  Abodus Student Living      Premium Studio (Dual Occupancy)   \n",
       "\n",
       "    Rent pw     Rent pcm Rent pa Weeks Area sqm Area sqft £psf pa  \\\n",
       "0     153.0   650.250000    7803    51      NaN       NaN     NaN   \n",
       "1     163.0   597.666667    7172    44      NaN       NaN     NaN   \n",
       "2     163.0   692.750000    8313    51      NaN       NaN     NaN   \n",
       "3     168.0   616.000000    7392    44      NaN       NaN     NaN   \n",
       "4     168.0   714.000000    8568    51      NaN       NaN     NaN   \n",
       "5     173.0   634.333333    7612    44      NaN       NaN     NaN   \n",
       "6     179.0   760.750000    9129    51      NaN       NaN     NaN   \n",
       "7     195.0   828.750000    9945    51      NaN       NaN     NaN   \n",
       "8     239.0  1015.750000   12189    51      NaN       NaN     NaN   \n",
       "9     279.0  1185.750000   14229    51      NaN       NaN     NaN   \n",
       "10    259.0  1100.750000   13209    51      NaN       NaN     NaN   \n",
       "11    299.0  1270.750000   15249    51      NaN       NaN     NaN   \n",
       "\n",
       "                                          Address  \\\n",
       "0   The Foundry, Cavendish Street, Leeds, LS3 IBN   \n",
       "1   The Foundry, Cavendish Street, Leeds, LS3 IBN   \n",
       "2   The Foundry, Cavendish Street, Leeds, LS3 IBN   \n",
       "3   The Foundry, Cavendish Street, Leeds, LS3 IBN   \n",
       "4   The Foundry, Cavendish Street, Leeds, LS3 IBN   \n",
       "5   The Foundry, Cavendish Street, Leeds, LS3 IBN   \n",
       "6   The Foundry, Cavendish Street, Leeds, LS3 IBN   \n",
       "7   The Foundry, Cavendish Street, Leeds, LS3 IBN   \n",
       "8   The Foundry, Cavendish Street, Leeds, LS3 IBN   \n",
       "9   The Foundry, Cavendish Street, Leeds, LS3 IBN   \n",
       "10  The Foundry, Cavendish Street, Leeds, LS3 IBN   \n",
       "11  The Foundry, Cavendish Street, Leeds, LS3 IBN   \n",
       "\n",
       "                                                  url  \n",
       "0   https://www.mystudenthalls.com/student-accommo...  \n",
       "1   https://www.mystudenthalls.com/student-accommo...  \n",
       "2   https://www.mystudenthalls.com/student-accommo...  \n",
       "3   https://www.mystudenthalls.com/student-accommo...  \n",
       "4   https://www.mystudenthalls.com/student-accommo...  \n",
       "5   https://www.mystudenthalls.com/student-accommo...  \n",
       "6   https://www.mystudenthalls.com/student-accommo...  \n",
       "7   https://www.mystudenthalls.com/student-accommo...  \n",
       "8   https://www.mystudenthalls.com/student-accommo...  \n",
       "9   https://www.mystudenthalls.com/student-accommo...  \n",
       "10  https://www.mystudenthalls.com/student-accommo...  \n",
       "11  https://www.mystudenthalls.com/student-accommo...  "
      ]
     },
     "execution_count": 18,
     "metadata": {},
     "output_type": "execute_result"
    }
   ],
   "source": [
    "# Concatenate (add) df_temp to df\n",
    "df = pd.concat([df, df_temp])\n",
    "\n",
    "# Clear df_temp\n",
    "df_temp = pd.DataFrame(columns=cols)"
   ]
  },
  {
   "cell_type": "code",
   "execution_count": null,
   "id": "8880f8e8",
   "metadata": {},
   "outputs": [],
   "source": []
  }
 ],
 "metadata": {
  "kernelspec": {
   "display_name": "Python 3 (ipykernel)",
   "language": "python",
   "name": "python3"
  },
  "language_info": {
   "codemirror_mode": {
    "name": "ipython",
    "version": 3
   },
   "file_extension": ".py",
   "mimetype": "text/x-python",
   "name": "python",
   "nbconvert_exporter": "python",
   "pygments_lexer": "ipython3",
   "version": "3.8.5"
  },
  "toc": {
   "base_numbering": 1,
   "nav_menu": {},
   "number_sections": true,
   "sideBar": true,
   "skip_h1_title": false,
   "title_cell": "Table of Contents",
   "title_sidebar": "Contents",
   "toc_cell": false,
   "toc_position": {},
   "toc_section_display": true,
   "toc_window_display": false
  },
  "varInspector": {
   "cols": {
    "lenName": 16,
    "lenType": 16,
    "lenVar": 40
   },
   "kernels_config": {
    "python": {
     "delete_cmd_postfix": "",
     "delete_cmd_prefix": "del ",
     "library": "var_list.py",
     "varRefreshCmd": "print(var_dic_list())"
    },
    "r": {
     "delete_cmd_postfix": ") ",
     "delete_cmd_prefix": "rm(",
     "library": "var_list.r",
     "varRefreshCmd": "cat(var_dic_list()) "
    }
   },
   "types_to_exclude": [
    "module",
    "function",
    "builtin_function_or_method",
    "instance",
    "_Feature"
   ],
   "window_display": false
  }
 },
 "nbformat": 4,
 "nbformat_minor": 5
}
