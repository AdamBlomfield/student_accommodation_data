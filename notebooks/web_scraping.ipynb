{
 "cells": [
  {
   "cell_type": "markdown",
   "id": "bf679826",
   "metadata": {},
   "source": [
    "# Notebook Overview\n",
    "\n",
    "TLDR; Scrape Data, Create CSV file\n",
    "\n",
    "Scrape Data:\n",
    "* Request HTML from [My Student Halls](https://www.mystudenthalls.com/) site\n",
    "* Scrape for Property, Owner/Operator, Address, Link URL\n",
    "* Scrape for 1 x Type, Rent (p/w vs pcm), weeks\n",
    "* Add data for 1 to master df\n",
    "* Scrape for N x (Type, Rent (p/w vs pcm), weeks)\n",
    "* Add data for N to master df\n",
    "* Save as CSV\n",
    "* Scrape for Area (sqm vs sqft)"
   ]
  },
  {
   "cell_type": "markdown",
   "id": "5996608d",
   "metadata": {},
   "source": [
    "# Import Libraries"
   ]
  },
  {
   "cell_type": "code",
   "execution_count": 1,
   "id": "efd71134",
   "metadata": {
    "ExecuteTime": {
     "end_time": "2021-12-19T16:25:08.112780Z",
     "start_time": "2021-12-19T16:25:07.693890Z"
    }
   },
   "outputs": [],
   "source": [
    "# DataFrame\n",
    "import pandas as pd\n",
    "\n",
    "# Webscraping\n",
    "from bs4 import BeautifulSoup as bs\n",
    "import requests"
   ]
  },
  {
   "cell_type": "markdown",
   "id": "dd97c92c",
   "metadata": {},
   "source": [
    "# Creation of DataFrames"
   ]
  },
  {
   "cell_type": "code",
   "execution_count": 2,
   "id": "77d67c59",
   "metadata": {
    "ExecuteTime": {
     "end_time": "2021-12-19T16:25:08.122821Z",
     "start_time": "2021-12-19T16:25:08.114536Z"
    }
   },
   "outputs": [],
   "source": [
    "# Initial DataFrame to scrape the URLs\n",
    "df_urls = pd.DataFrame(columns=['Property', 'url'])\n",
    "\n",
    "# Column headings to be used in DataFrame\n",
    "cols = ['Property', 'Owner / Operator', 'Type', 'Rent pw',\n",
    "        'Rent pcm', 'Rent pa', 'Weeks', 'Area sqm', 'Area sqft',\n",
    "        '£psf pa', 'Address', 'url']\n",
    "\n",
    "# Master DataFrame to be populated\n",
    "df = pd.DataFrame(columns=cols)\n",
    "\n",
    "# Temporary DataFrame to be populated, added to Master DF then cleared\n",
    "df_temp = pd.DataFrame(columns=cols)"
   ]
  },
  {
   "cell_type": "markdown",
   "id": "0ca1a414",
   "metadata": {},
   "source": [
    "# Which University?"
   ]
  },
  {
   "cell_type": "code",
   "execution_count": 3,
   "id": "00377625",
   "metadata": {
    "ExecuteTime": {
     "end_time": "2021-12-19T16:25:48.411861Z",
     "start_time": "2021-12-19T16:25:08.125296Z"
    }
   },
   "outputs": [
    {
     "name": "stdout",
     "output_type": "stream",
     "text": [
      "Oxford\n"
     ]
    }
   ],
   "source": [
    "# To be filled in by user\n",
    "university = input()\n",
    "url_home = 'https://www.mystudenthalls.com/?s=' + university"
   ]
  },
  {
   "cell_type": "markdown",
   "id": "1940d385",
   "metadata": {},
   "source": [
    "# Web Scrape"
   ]
  },
  {
   "cell_type": "markdown",
   "id": "1eb2667a",
   "metadata": {},
   "source": [
    "## DF_URL (Scrape Property Names & associated URLs)"
   ]
  },
  {
   "cell_type": "code",
   "execution_count": 4,
   "id": "ad0e6a8c",
   "metadata": {
    "ExecuteTime": {
     "end_time": "2021-12-19T16:25:49.550178Z",
     "start_time": "2021-12-19T16:25:48.414316Z"
    }
   },
   "outputs": [],
   "source": [
    "# Make a get request to retrieve the page\n",
    "html_page = requests.get(url_home)\n",
    "\n",
    "# Pass the page contents to beautiful soup for parsing\n",
    "soup = bs(html_page.text, 'html.parser')"
   ]
  },
  {
   "cell_type": "markdown",
   "id": "3551f170",
   "metadata": {},
   "source": [
    "### Scrape all property names at the university"
   ]
  },
  {
   "cell_type": "code",
   "execution_count": 5,
   "id": "4f852f02",
   "metadata": {
    "ExecuteTime": {
     "end_time": "2021-12-19T16:25:49.557257Z",
     "start_time": "2021-12-19T16:25:49.551515Z"
    }
   },
   "outputs": [],
   "source": [
    "# Retreive all property names\n",
    "all_properties = soup.find_all('div', class_='listing-detail')"
   ]
  },
  {
   "cell_type": "code",
   "execution_count": 6,
   "id": "22470abc",
   "metadata": {
    "ExecuteTime": {
     "end_time": "2021-12-19T16:25:49.565541Z",
     "start_time": "2021-12-19T16:25:49.559552Z"
    }
   },
   "outputs": [],
   "source": [
    "# List for all the property names\n",
    "property_names = []\n",
    "for property_ in list(range(len(all_properties))):\n",
    "    # Scrape the name of the nth property\n",
    "    property_name = all_properties[property_].find(\"h2\").get_text()\n",
    "    # Add property name to the list of property names\n",
    "    property_names.append(property_name)\n",
    "    \n",
    "# Add list of all property names to DataFrame\n",
    "df_urls['Property'] = property_names"
   ]
  },
  {
   "cell_type": "markdown",
   "id": "80cfb1ed",
   "metadata": {},
   "source": [
    "### Scrape all URLs for the properties"
   ]
  },
  {
   "cell_type": "code",
   "execution_count": 7,
   "id": "12d4a0df",
   "metadata": {
    "ExecuteTime": {
     "end_time": "2021-12-19T16:25:49.589123Z",
     "start_time": "2021-12-19T16:25:49.568383Z"
    }
   },
   "outputs": [
    {
     "data": {
      "text/html": [
       "<div>\n",
       "<style scoped>\n",
       "    .dataframe tbody tr th:only-of-type {\n",
       "        vertical-align: middle;\n",
       "    }\n",
       "\n",
       "    .dataframe tbody tr th {\n",
       "        vertical-align: top;\n",
       "    }\n",
       "\n",
       "    .dataframe thead th {\n",
       "        text-align: right;\n",
       "    }\n",
       "</style>\n",
       "<table border=\"1\" class=\"dataframe\">\n",
       "  <thead>\n",
       "    <tr style=\"text-align: right;\">\n",
       "      <th></th>\n",
       "      <th>Property</th>\n",
       "      <th>url</th>\n",
       "    </tr>\n",
       "  </thead>\n",
       "  <tbody>\n",
       "    <tr>\n",
       "      <th>0</th>\n",
       "      <td>Between Towns Court, Oxford</td>\n",
       "      <td>https://www.mystudenthalls.com/student-accommo...</td>\n",
       "    </tr>\n",
       "    <tr>\n",
       "      <th>1</th>\n",
       "      <td>Student Castle Oxford</td>\n",
       "      <td>https://www.mystudenthalls.com/student-accommo...</td>\n",
       "    </tr>\n",
       "  </tbody>\n",
       "</table>\n",
       "</div>"
      ],
      "text/plain": [
       "                      Property  \\\n",
       "0  Between Towns Court, Oxford   \n",
       "1        Student Castle Oxford   \n",
       "\n",
       "                                                 url  \n",
       "0  https://www.mystudenthalls.com/student-accommo...  \n",
       "1  https://www.mystudenthalls.com/student-accommo...  "
      ]
     },
     "execution_count": 7,
     "metadata": {},
     "output_type": "execute_result"
    }
   ],
   "source": [
    "# Create a list of the properties' url links\n",
    "links = []\n",
    "for property_ in list(range(len(all_properties))):\n",
    "    link = all_properties[property_].h2.a['href']\n",
    "    links.append(link)\n",
    "    \n",
    "# Add List of properties' url links to df_url\n",
    "df_urls['url'] = links\n",
    "\n",
    "# Preview DataFrame\n",
    "df_urls.head(2)"
   ]
  },
  {
   "cell_type": "markdown",
   "id": "04c46ae2",
   "metadata": {},
   "source": [
    "## DF_Temp (temporary dataframe to collect all data for 1 property)"
   ]
  },
  {
   "cell_type": "markdown",
   "id": "0cbe13f5",
   "metadata": {},
   "source": [
    "### Type"
   ]
  },
  {
   "cell_type": "code",
   "execution_count": 8,
   "id": "7b32d856",
   "metadata": {
    "ExecuteTime": {
     "end_time": "2021-12-19T16:25:49.598676Z",
     "start_time": "2021-12-19T16:25:49.591140Z"
    }
   },
   "outputs": [],
   "source": [
    "def func_type(soup):\n",
    "    # List for all the types of room at this property\n",
    "    rooms = soup.findAll('p', attrs={'class':'room_title'})\n",
    "\n",
    "    types = []\n",
    "    for room_num in list(range(len(rooms))):\n",
    "        types.append(rooms[room_num].text)\n",
    "\n",
    "    return types"
   ]
  },
  {
   "cell_type": "markdown",
   "id": "2ee1212f",
   "metadata": {},
   "source": [
    "### Rent PA"
   ]
  },
  {
   "cell_type": "code",
   "execution_count": 9,
   "id": "c0f813ce",
   "metadata": {
    "ExecuteTime": {
     "end_time": "2021-12-19T16:25:49.606059Z",
     "start_time": "2021-12-19T16:25:49.601830Z"
    }
   },
   "outputs": [],
   "source": [
    "def func_rent_pa(soup):\n",
    "    # HTML that contains info we need for Rent PA\n",
    "    rents_pa = soup.findAll('li', attrs={'class':'tenancy'})\n",
    "\n",
    "    # Blank list to gather the different rents PA\n",
    "    rent_pa = []\n",
    "\n",
    "    # For each room, add the rent price to the blank list above\n",
    "    for rent_pa_num in list(range(len(rents_pa))):\n",
    "        room_rent = rents_pa[rent_pa_num].text\n",
    "        rent_pa.append(int(room_rent[13:-3].replace(',','')))\n",
    "    \n",
    "    return rent_pa"
   ]
  },
  {
   "cell_type": "markdown",
   "id": "f4af7dea",
   "metadata": {},
   "source": [
    "### Weeks"
   ]
  },
  {
   "cell_type": "code",
   "execution_count": 10,
   "id": "48870e80",
   "metadata": {
    "ExecuteTime": {
     "end_time": "2021-12-19T16:25:49.614379Z",
     "start_time": "2021-12-19T16:25:49.608830Z"
    }
   },
   "outputs": [],
   "source": [
    "def func_weeks(soup):\n",
    "    # HTML that contains info we need for Weeks\n",
    "    weeks_data = soup.findAll('li', attrs={'class':'availability'})\n",
    "\n",
    "    # List of number of weeks room is available for in the year\n",
    "    weeks = []\n",
    "    for n in list(range(len(weeks_data)))[1::2]: #availablity tag also returns good/limited info of room, so we only want every other one\n",
    "        # add only the number of weeks to the list\n",
    "        weeks.append(int(weeks_data[n].text[7:9]))\n",
    "    \n",
    "    return weeks"
   ]
  },
  {
   "cell_type": "markdown",
   "id": "57bb2c08",
   "metadata": {},
   "source": [
    "## Function to populate df_temp"
   ]
  },
  {
   "cell_type": "code",
   "execution_count": 11,
   "id": "bb798c7c",
   "metadata": {
    "ExecuteTime": {
     "end_time": "2021-12-19T16:25:49.625878Z",
     "start_time": "2021-12-19T16:25:49.617578Z"
    }
   },
   "outputs": [],
   "source": [
    "def func_build_df_temp(n, soup):\n",
    "    '''Populate the df_temp dataframe\n",
    "    n: the property number as it appears in the list from the url_home\n",
    "    soup: beautiful soup of the nth property's url, to be parsed'''\n",
    "\n",
    "    # Column headings to be used in DataFrame\n",
    "    cols = ['Property', 'Owner / Operator', 'Type', 'Rent pw',\n",
    "        'Rent pcm', 'Rent pa', 'Weeks', 'Area sqm', 'Area sqft',\n",
    "        '£psf pa', 'Address', 'url']\n",
    "\n",
    "    # Temporary DataFrame to be populated, added to Master DF then cleared\n",
    "    df_temp = pd.DataFrame(columns=cols)\n",
    "    \n",
    "    # Type\n",
    "    df_temp['Type'] = func_type(soup)\n",
    "    # RentPA\n",
    "    df_temp['Rent pa'] = func_rent_pa(soup)\n",
    "    # Weeks\n",
    "    df_temp['Weeks'] = func_weeks(soup)\n",
    "    # RentPW\n",
    "    df_temp['Rent pw'] = df_temp['Rent pa'] / df_temp['Weeks']\n",
    "    df_temp['Rent pw'] = df_temp['Rent pw'].round(2) # round to 2 decimal places\n",
    "    # RentPCM\n",
    "    df_temp['Rent pcm'] = df_temp['Rent pa'] / 12\n",
    "    df['Rent pcm'] = df['Rent pcm'].round(2) # round to 2 decimal places\n",
    "    # Address\n",
    "    # HTML that contains info we need for Address\n",
    "    df_temp['Address'] = soup.findAll('div',attrs={'class':'inner'})[5].h3.text[9:]\n",
    "    # Owner/Operator\n",
    "    df_temp['Owner / Operator'] = soup.findAll('aside', attrs={'id':'sidebar-detail'})[0].h2.text\n",
    "    # URL\n",
    "    df_temp['url'] = df_urls['url'][n]\n",
    "    # Property\n",
    "    df_temp['Property'] = df_urls['Property'][n]\n",
    "    \n",
    "    return df_temp"
   ]
  },
  {
   "cell_type": "code",
   "execution_count": 12,
   "id": "9dec79bd",
   "metadata": {
    "ExecuteTime": {
     "end_time": "2021-12-19T16:25:54.399433Z",
     "start_time": "2021-12-19T16:25:49.632137Z"
    }
   },
   "outputs": [],
   "source": [
    "for n in list(range(len(df_urls))):\n",
    "    # Make a get request to retrieve the nth property's url page\n",
    "    html_page = requests.get(df_urls['url'][n])\n",
    "\n",
    "    # Pass the page contents to beautiful soup for parsing\n",
    "    soup = bs(html_page.text, 'html.parser')\n",
    "    \n",
    "    # Build df_temp of nth property\n",
    "    df_temp = func_build_df_temp(n, soup)\n",
    "    \n",
    "    # Concatenate (add) df_temp to df\n",
    "    df = pd.concat([df, df_temp])        \n",
    "\n",
    "    # Clear df_temp\n",
    "    df_temp = pd.DataFrame(columns=cols)"
   ]
  },
  {
   "cell_type": "markdown",
   "id": "2e1eb024",
   "metadata": {},
   "source": [
    "# Export df as csv file"
   ]
  },
  {
   "cell_type": "code",
   "execution_count": 13,
   "id": "3cc7edb6",
   "metadata": {
    "ExecuteTime": {
     "end_time": "2021-12-19T16:25:54.408960Z",
     "start_time": "2021-12-19T16:25:54.401357Z"
    }
   },
   "outputs": [],
   "source": [
    "csv_name = '../data/{}_student_accommodation_data.csv'.format(university)\n",
    "df.to_csv(csv_name, index=False)"
   ]
  },
  {
   "cell_type": "markdown",
   "id": "7ebea172",
   "metadata": {},
   "source": [
    "STILL TO FIX"
   ]
  },
  {
   "cell_type": "markdown",
   "id": "b3e38d95",
   "metadata": {},
   "source": [
    "* Edinburgh example had an issue with the text extraction from weeks.  wasnt in base 10.  maybe need to just extract the numbers, and the first numbers at that (in case its 44 or 55 weeks).  "
   ]
  },
  {
   "cell_type": "markdown",
   "id": "1e2b683e",
   "metadata": {},
   "source": [
    "* Make it really easily useable by james"
   ]
  },
  {
   "cell_type": "code",
   "execution_count": null,
   "id": "2dbb92bd",
   "metadata": {},
   "outputs": [],
   "source": []
  }
 ],
 "metadata": {
  "kernelspec": {
   "display_name": "Python 3 (ipykernel)",
   "language": "python",
   "name": "python3"
  },
  "language_info": {
   "codemirror_mode": {
    "name": "ipython",
    "version": 3
   },
   "file_extension": ".py",
   "mimetype": "text/x-python",
   "name": "python",
   "nbconvert_exporter": "python",
   "pygments_lexer": "ipython3",
   "version": "3.8.5"
  },
  "toc": {
   "base_numbering": 1,
   "nav_menu": {},
   "number_sections": true,
   "sideBar": true,
   "skip_h1_title": false,
   "title_cell": "Table of Contents",
   "title_sidebar": "Contents",
   "toc_cell": false,
   "toc_position": {},
   "toc_section_display": true,
   "toc_window_display": false
  },
  "varInspector": {
   "cols": {
    "lenName": 16,
    "lenType": 16,
    "lenVar": 40
   },
   "kernels_config": {
    "python": {
     "delete_cmd_postfix": "",
     "delete_cmd_prefix": "del ",
     "library": "var_list.py",
     "varRefreshCmd": "print(var_dic_list())"
    },
    "r": {
     "delete_cmd_postfix": ") ",
     "delete_cmd_prefix": "rm(",
     "library": "var_list.r",
     "varRefreshCmd": "cat(var_dic_list()) "
    }
   },
   "types_to_exclude": [
    "module",
    "function",
    "builtin_function_or_method",
    "instance",
    "_Feature"
   ],
   "window_display": false
  }
 },
 "nbformat": 4,
 "nbformat_minor": 5
}
