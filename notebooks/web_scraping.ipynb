{
 "cells": [
  {
   "cell_type": "markdown",
   "id": "64c00b41",
   "metadata": {},
   "source": [
    "# Notebook Overview\n",
    "\n",
    "TLDR; Scrape Data, Create CSV file\n",
    "\n",
    "Scrape Data:\n",
    "* Request HTML from [My Student Halls](https://www.mystudenthalls.com/) site\n",
    "* Scrape for Property, Owner/Operator, Address, Link URL\n",
    "* Scrape for 1 x Type, Rent (p/w vs pcm), weeks\n",
    "* Add data for 1 to master df\n",
    "* Scrape for N x (Type, Rent (p/w vs pcm), weeks)\n",
    "* Add data for N to master df\n",
    "* Save as CSV\n",
    "* Scrape for Area (sqm vs sqft)"
   ]
  },
  {
   "cell_type": "markdown",
   "id": "591f7f66",
   "metadata": {},
   "source": [
    "# Import Libraries"
   ]
  },
  {
   "cell_type": "code",
   "execution_count": 1,
   "id": "d3c42aba",
   "metadata": {
    "ExecuteTime": {
     "end_time": "2021-12-22T16:40:27.148182Z",
     "start_time": "2021-12-22T16:40:26.778491Z"
    }
   },
   "outputs": [],
   "source": [
    "# DataFrame\n",
    "import pandas as pd\n",
    "\n",
    "# Webscraping\n",
    "from bs4 import BeautifulSoup as bs\n",
    "import requests"
   ]
  },
  {
   "cell_type": "markdown",
   "id": "22cfb684",
   "metadata": {},
   "source": [
    "# Creation of DataFrames"
   ]
  },
  {
   "cell_type": "code",
   "execution_count": 2,
   "id": "266d625d",
   "metadata": {
    "ExecuteTime": {
     "end_time": "2021-12-22T16:40:27.157795Z",
     "start_time": "2021-12-22T16:40:27.149582Z"
    }
   },
   "outputs": [],
   "source": [
    "# Initial DataFrame to scrape the URLs\n",
    "df_urls = pd.DataFrame(columns=['Property', 'url'])\n",
    "\n",
    "# Column headings to be used in DataFrame\n",
    "cols = ['Property', 'Owner / Operator', 'Type', 'Rent pw',\n",
    "        'Rent pcm', 'Rent pa', 'Weeks', 'Area sqm', 'Area sqft',\n",
    "        '£psf pa', 'Address', 'url']\n",
    "\n",
    "# Master DataFrame to be populated\n",
    "df = pd.DataFrame(columns=cols)\n",
    "\n",
    "# Temporary DataFrame to be populated, added to Master DF then cleared\n",
    "df_temp = pd.DataFrame(columns=cols)"
   ]
  },
  {
   "cell_type": "markdown",
   "id": "43637eaa",
   "metadata": {},
   "source": [
    "# Which University?"
   ]
  },
  {
   "cell_type": "code",
   "execution_count": 3,
   "id": "d4de4464",
   "metadata": {
    "ExecuteTime": {
     "end_time": "2021-12-22T16:40:28.735289Z",
     "start_time": "2021-12-22T16:40:27.160185Z"
    }
   },
   "outputs": [
    {
     "name": "stdout",
     "output_type": "stream",
     "text": [
      "edinburgh\n"
     ]
    }
   ],
   "source": [
    "# To be filled in by user\n",
    "university = input()\n",
    "url_home = 'https://www.mystudenthalls.com/?s=' + university"
   ]
  },
  {
   "cell_type": "markdown",
   "id": "9498b296",
   "metadata": {},
   "source": [
    "# Web Scrape"
   ]
  },
  {
   "cell_type": "markdown",
   "id": "c65058d7",
   "metadata": {},
   "source": [
    "## DF_URL (Scrape Property Names & associated URLs)"
   ]
  },
  {
   "cell_type": "code",
   "execution_count": 4,
   "id": "9207e189",
   "metadata": {
    "ExecuteTime": {
     "end_time": "2021-12-22T16:40:30.073860Z",
     "start_time": "2021-12-22T16:40:28.737396Z"
    }
   },
   "outputs": [],
   "source": [
    "# Make a get request to retrieve the page\n",
    "html_page = requests.get(url_home)\n",
    "\n",
    "# Pass the page contents to beautiful soup for parsing\n",
    "soup = bs(html_page.text, 'html.parser')"
   ]
  },
  {
   "cell_type": "markdown",
   "id": "1bfe8666",
   "metadata": {},
   "source": [
    "### Scrape all property names at the university"
   ]
  },
  {
   "cell_type": "code",
   "execution_count": 5,
   "id": "55a6351a",
   "metadata": {
    "ExecuteTime": {
     "end_time": "2021-12-22T16:40:30.082238Z",
     "start_time": "2021-12-22T16:40:30.075873Z"
    }
   },
   "outputs": [],
   "source": [
    "# Retreive all property names\n",
    "all_properties = soup.find_all('div', class_='listing-detail')"
   ]
  },
  {
   "cell_type": "code",
   "execution_count": 6,
   "id": "03ca0ebb",
   "metadata": {
    "ExecuteTime": {
     "end_time": "2021-12-22T16:40:30.090909Z",
     "start_time": "2021-12-22T16:40:30.084558Z"
    }
   },
   "outputs": [],
   "source": [
    "# List for all the property names\n",
    "property_names = []\n",
    "for property_ in list(range(len(all_properties))):\n",
    "    # Scrape the name of the nth property\n",
    "    property_name = all_properties[property_].find(\"h2\").get_text()\n",
    "    # Add property name to the list of property names\n",
    "    property_names.append(property_name)\n",
    "    \n",
    "# Add list of all property names to DataFrame\n",
    "df_urls['Property'] = property_names"
   ]
  },
  {
   "cell_type": "markdown",
   "id": "e118a3c7",
   "metadata": {},
   "source": [
    "### Scrape all URLs for the properties"
   ]
  },
  {
   "cell_type": "code",
   "execution_count": 7,
   "id": "f4e89ad6",
   "metadata": {
    "ExecuteTime": {
     "end_time": "2021-12-22T16:40:30.110927Z",
     "start_time": "2021-12-22T16:40:30.093164Z"
    },
    "scrolled": true
   },
   "outputs": [
    {
     "data": {
      "text/html": [
       "<div>\n",
       "<style scoped>\n",
       "    .dataframe tbody tr th:only-of-type {\n",
       "        vertical-align: middle;\n",
       "    }\n",
       "\n",
       "    .dataframe tbody tr th {\n",
       "        vertical-align: top;\n",
       "    }\n",
       "\n",
       "    .dataframe thead th {\n",
       "        text-align: right;\n",
       "    }\n",
       "</style>\n",
       "<table border=\"1\" class=\"dataframe\">\n",
       "  <thead>\n",
       "    <tr style=\"text-align: right;\">\n",
       "      <th></th>\n",
       "      <th>Property</th>\n",
       "      <th>url</th>\n",
       "    </tr>\n",
       "  </thead>\n",
       "  <tbody>\n",
       "    <tr>\n",
       "      <th>0</th>\n",
       "      <td>iQ Fountainbridge</td>\n",
       "      <td>https://www.mystudenthalls.com/student-accommo...</td>\n",
       "    </tr>\n",
       "    <tr>\n",
       "      <th>1</th>\n",
       "      <td>Brewers Court</td>\n",
       "      <td>https://www.mystudenthalls.com/student-accommo...</td>\n",
       "    </tr>\n",
       "  </tbody>\n",
       "</table>\n",
       "</div>"
      ],
      "text/plain": [
       "            Property                                                url\n",
       "0  iQ Fountainbridge  https://www.mystudenthalls.com/student-accommo...\n",
       "1      Brewers Court  https://www.mystudenthalls.com/student-accommo..."
      ]
     },
     "execution_count": 7,
     "metadata": {},
     "output_type": "execute_result"
    }
   ],
   "source": [
    "# Create a list of the properties' url links\n",
    "links = []\n",
    "for property_ in list(range(len(all_properties))):\n",
    "    link = all_properties[property_].h2.a['href']\n",
    "    links.append(link)\n",
    "    \n",
    "# Add List of properties' url links to df_url\n",
    "df_urls['url'] = links\n",
    "\n",
    "# Preview DataFrame\n",
    "df_urls.head(2)"
   ]
  },
  {
   "cell_type": "markdown",
   "id": "01443d59",
   "metadata": {},
   "source": [
    "## DF_Temp (temporary dataframe to collect all data for 1 property)"
   ]
  },
  {
   "cell_type": "markdown",
   "id": "a67931f6",
   "metadata": {},
   "source": [
    "### Type"
   ]
  },
  {
   "cell_type": "code",
   "execution_count": 8,
   "id": "c4a2e993",
   "metadata": {
    "ExecuteTime": {
     "end_time": "2021-12-22T16:40:30.116420Z",
     "start_time": "2021-12-22T16:40:30.112402Z"
    }
   },
   "outputs": [],
   "source": [
    "def func_type(soup):\n",
    "    # List for all the types of room at this property\n",
    "    rooms = soup.findAll('p', attrs={'class':'room_title'})\n",
    "\n",
    "    types = []\n",
    "    for room_num in list(range(len(rooms))):\n",
    "        if len(rooms[room_num])>0:\n",
    "            types.append(rooms[room_num].text)\n",
    "        else:# some pages show an extra class:tenancy line with no info for rentpa or weeks\n",
    "            pass\n",
    "\n",
    "    return types"
   ]
  },
  {
   "cell_type": "markdown",
   "id": "f4b3ac1c",
   "metadata": {},
   "source": [
    "### Rent PA"
   ]
  },
  {
   "cell_type": "code",
   "execution_count": 9,
   "id": "4ca3c5f0",
   "metadata": {
    "ExecuteTime": {
     "end_time": "2021-12-22T16:40:30.122503Z",
     "start_time": "2021-12-22T16:40:30.118703Z"
    }
   },
   "outputs": [],
   "source": [
    "def func_rent_pa(soup):\n",
    "    # HTML that contains info we need for Rent PA\n",
    "    rents_pa = soup.findAll('li', attrs={'class':'tenancy'})\n",
    "\n",
    "    # Blank list to gather the different rents PA\n",
    "    rent_pa = []\n",
    "\n",
    "    # For each room, add the rent price to the blank list above\n",
    "    for rent_pa_num in list(range(len(rents_pa))):\n",
    "        room_rent = rents_pa[rent_pa_num].text\n",
    "        if '£' in room_rent:\n",
    "            rent_pa.append(int(room_rent[13:-3].replace(',','')))\n",
    "        else: # some pages show an extra class:tenancy line with no info for rentpa or weeks\n",
    "            pass\n",
    "    \n",
    "    return rent_pa"
   ]
  },
  {
   "cell_type": "markdown",
   "id": "0937bf29",
   "metadata": {},
   "source": [
    "### Weeks"
   ]
  },
  {
   "cell_type": "code",
   "execution_count": 10,
   "id": "2c536436",
   "metadata": {
    "ExecuteTime": {
     "end_time": "2021-12-22T16:40:30.129493Z",
     "start_time": "2021-12-22T16:40:30.124437Z"
    }
   },
   "outputs": [],
   "source": [
    "def func_weeks(soup):\n",
    "    # HTML that contains info we need for Weeks\n",
    "    weeks_data = soup.findAll('li', attrs={'class':'availability'})\n",
    "\n",
    "    # List of number of weeks room is available for in the year\n",
    "    weeks = []\n",
    "    for n in list(range(len(weeks_data)))[1::2]: #availablity tag also returns good/limited info of room, so we only want every other one\n",
    "        if len(weeks_data[n].text[7:])>0:\n",
    "            # add only the number of weeks to the list\n",
    "            weeks.append(int(weeks_data[n].text[7:9]))\n",
    "        else: # some pages show an extra class:tenancy line with no info for rentpa or weeks\n",
    "            pass\n",
    "    \n",
    "    return weeks"
   ]
  },
  {
   "cell_type": "code",
   "execution_count": 19,
   "id": "2d0216ae",
   "metadata": {
    "ExecuteTime": {
     "end_time": "2021-12-22T16:44:41.364634Z",
     "start_time": "2021-12-22T16:44:41.356216Z"
    }
   },
   "outputs": [
    {
     "name": "stdout",
     "output_type": "stream",
     "text": [
      "51 Week Tenancy\n",
      "51 Week Tenancy\n",
      "51 Week Tenancy\n",
      "Flexible Tenancy\n",
      "51 Week Tenancy\n",
      "Flexible Tenancy\n",
      "51 Week Tenancy\n",
      "51 Week Tenancy\n"
     ]
    }
   ],
   "source": [
    "weeks_data = soup.findAll('li', attrs={'class':'availability'})\n",
    "\n",
    "for n in list(range(len(weeks_data)))[1::2]:\n",
    "    print(weeks_data[n].text[7:])\n"
   ]
  },
  {
   "cell_type": "code",
   "execution_count": 22,
   "id": "bdad0590",
   "metadata": {
    "ExecuteTime": {
     "end_time": "2021-12-22T16:46:54.893197Z",
     "start_time": "2021-12-22T16:46:54.884784Z"
    }
   },
   "outputs": [
    {
     "name": "stdout",
     "output_type": "stream",
     "text": [
      "10149\n",
      "10506\n",
      "11475\n",
      "0\n",
      "14535\n",
      "0\n",
      "13005\n",
      "10659\n"
     ]
    }
   ],
   "source": [
    "rents_pa = soup.findAll('li', attrs={'class':'tenancy'})\n",
    "\n",
    "for rent_pa_num in list(range(len(rents_pa))):\n",
    "    room_rent = rents_pa[rent_pa_num].text[13:-3].replace(',','')\n",
    "    print(room_rent)"
   ]
  },
  {
   "cell_type": "markdown",
   "id": "df277302",
   "metadata": {},
   "source": [
    "## Function to populate df_temp"
   ]
  },
  {
   "cell_type": "code",
   "execution_count": 11,
   "id": "93bb9760",
   "metadata": {
    "ExecuteTime": {
     "end_time": "2021-12-22T16:40:30.137405Z",
     "start_time": "2021-12-22T16:40:30.131490Z"
    }
   },
   "outputs": [],
   "source": [
    "def func_build_df_temp(n, soup):\n",
    "    '''Populate the df_temp dataframe\n",
    "    n: the property number as it appears in the list from the url_home\n",
    "    soup: beautiful soup of the nth property's url, to be parsed'''\n",
    "\n",
    "    # Column headings to be used in DataFrame\n",
    "    cols = ['Property', 'Owner / Operator', 'Type', 'Rent pw',\n",
    "        'Rent pcm', 'Rent pa', 'Weeks', 'Area sqm', 'Area sqft',\n",
    "        '£psf pa', 'Address', 'url']\n",
    "\n",
    "    # Temporary DataFrame to be populated, added to Master DF then cleared\n",
    "    df_temp = pd.DataFrame(columns=cols)\n",
    "    \n",
    "    # Type\n",
    "    df_temp['Type'] = func_type(soup)\n",
    "    # RentPA\n",
    "    df_temp['Rent pa'] = func_rent_pa(soup)\n",
    "    # Weeks\n",
    "    df_temp['Weeks'] = func_weeks(soup)\n",
    "    # RentPW\n",
    "    df_temp['Rent pw'] = df_temp['Rent pa'] / df_temp['Weeks']\n",
    "    df_temp['Rent pw'] = df_temp['Rent pw'].round(2) # round to 2 decimal places\n",
    "    # RentPCM\n",
    "    df_temp['Rent pcm'] = df_temp['Rent pa'] / 12\n",
    "    df['Rent pcm'] = df['Rent pcm'].round(2) # round to 2 decimal places\n",
    "    # Address\n",
    "    # HTML that contains info we need for Address\n",
    "    df_temp['Address'] = soup.findAll('div',attrs={'class':'inner'})[5].h3.text[9:]\n",
    "    # Owner/Operator\n",
    "    df_temp['Owner / Operator'] = soup.findAll('aside', attrs={'id':'sidebar-detail'})[0].h2.text\n",
    "    # URL\n",
    "    df_temp['url'] = df_urls['url'][n]\n",
    "    # Property\n",
    "    df_temp['Property'] = df_urls['Property'][n]\n",
    "    \n",
    "    return df_temp"
   ]
  },
  {
   "cell_type": "code",
   "execution_count": 12,
   "id": "492d326d",
   "metadata": {
    "ExecuteTime": {
     "end_time": "2021-12-22T16:40:37.163169Z",
     "start_time": "2021-12-22T16:40:30.142286Z"
    }
   },
   "outputs": [
    {
     "ename": "ValueError",
     "evalue": "invalid literal for int() with base 10: 'Fl'",
     "output_type": "error",
     "traceback": [
      "\u001b[0;31m---------------------------------------------------------------------------\u001b[0m",
      "\u001b[0;31mValueError\u001b[0m                                Traceback (most recent call last)",
      "\u001b[0;32m/var/folders/m5/bsjlsdhx2qx4ls9hdqk_yjzw0000gn/T/ipykernel_26148/264809270.py\u001b[0m in \u001b[0;36m<module>\u001b[0;34m\u001b[0m\n\u001b[1;32m      7\u001b[0m \u001b[0;34m\u001b[0m\u001b[0m\n\u001b[1;32m      8\u001b[0m     \u001b[0;31m# Build df_temp of nth property\u001b[0m\u001b[0;34m\u001b[0m\u001b[0;34m\u001b[0m\u001b[0;34m\u001b[0m\u001b[0m\n\u001b[0;32m----> 9\u001b[0;31m     \u001b[0mdf_temp\u001b[0m \u001b[0;34m=\u001b[0m \u001b[0mfunc_build_df_temp\u001b[0m\u001b[0;34m(\u001b[0m\u001b[0mn\u001b[0m\u001b[0;34m,\u001b[0m \u001b[0msoup\u001b[0m\u001b[0;34m)\u001b[0m\u001b[0;34m\u001b[0m\u001b[0;34m\u001b[0m\u001b[0m\n\u001b[0m\u001b[1;32m     10\u001b[0m \u001b[0;34m\u001b[0m\u001b[0m\n\u001b[1;32m     11\u001b[0m     \u001b[0;31m# Concatenate (add) df_temp to df\u001b[0m\u001b[0;34m\u001b[0m\u001b[0;34m\u001b[0m\u001b[0;34m\u001b[0m\u001b[0m\n",
      "\u001b[0;32m/var/folders/m5/bsjlsdhx2qx4ls9hdqk_yjzw0000gn/T/ipykernel_26148/3591111116.py\u001b[0m in \u001b[0;36mfunc_build_df_temp\u001b[0;34m(n, soup)\u001b[0m\n\u001b[1;32m     17\u001b[0m     \u001b[0mdf_temp\u001b[0m\u001b[0;34m[\u001b[0m\u001b[0;34m'Rent pa'\u001b[0m\u001b[0;34m]\u001b[0m \u001b[0;34m=\u001b[0m \u001b[0mfunc_rent_pa\u001b[0m\u001b[0;34m(\u001b[0m\u001b[0msoup\u001b[0m\u001b[0;34m)\u001b[0m\u001b[0;34m\u001b[0m\u001b[0;34m\u001b[0m\u001b[0m\n\u001b[1;32m     18\u001b[0m     \u001b[0;31m# Weeks\u001b[0m\u001b[0;34m\u001b[0m\u001b[0;34m\u001b[0m\u001b[0;34m\u001b[0m\u001b[0m\n\u001b[0;32m---> 19\u001b[0;31m     \u001b[0mdf_temp\u001b[0m\u001b[0;34m[\u001b[0m\u001b[0;34m'Weeks'\u001b[0m\u001b[0;34m]\u001b[0m \u001b[0;34m=\u001b[0m \u001b[0mfunc_weeks\u001b[0m\u001b[0;34m(\u001b[0m\u001b[0msoup\u001b[0m\u001b[0;34m)\u001b[0m\u001b[0;34m\u001b[0m\u001b[0;34m\u001b[0m\u001b[0m\n\u001b[0m\u001b[1;32m     20\u001b[0m     \u001b[0;31m# RentPW\u001b[0m\u001b[0;34m\u001b[0m\u001b[0;34m\u001b[0m\u001b[0;34m\u001b[0m\u001b[0m\n\u001b[1;32m     21\u001b[0m     \u001b[0mdf_temp\u001b[0m\u001b[0;34m[\u001b[0m\u001b[0;34m'Rent pw'\u001b[0m\u001b[0;34m]\u001b[0m \u001b[0;34m=\u001b[0m \u001b[0mdf_temp\u001b[0m\u001b[0;34m[\u001b[0m\u001b[0;34m'Rent pa'\u001b[0m\u001b[0;34m]\u001b[0m \u001b[0;34m/\u001b[0m \u001b[0mdf_temp\u001b[0m\u001b[0;34m[\u001b[0m\u001b[0;34m'Weeks'\u001b[0m\u001b[0;34m]\u001b[0m\u001b[0;34m\u001b[0m\u001b[0;34m\u001b[0m\u001b[0m\n",
      "\u001b[0;32m/var/folders/m5/bsjlsdhx2qx4ls9hdqk_yjzw0000gn/T/ipykernel_26148/2520339501.py\u001b[0m in \u001b[0;36mfunc_weeks\u001b[0;34m(soup)\u001b[0m\n\u001b[1;32m      8\u001b[0m         \u001b[0;32mif\u001b[0m \u001b[0mlen\u001b[0m\u001b[0;34m(\u001b[0m\u001b[0mweeks_data\u001b[0m\u001b[0;34m[\u001b[0m\u001b[0mn\u001b[0m\u001b[0;34m]\u001b[0m\u001b[0;34m.\u001b[0m\u001b[0mtext\u001b[0m\u001b[0;34m[\u001b[0m\u001b[0;36m7\u001b[0m\u001b[0;34m:\u001b[0m\u001b[0;34m]\u001b[0m\u001b[0;34m)\u001b[0m\u001b[0;34m>\u001b[0m\u001b[0;36m0\u001b[0m\u001b[0;34m:\u001b[0m\u001b[0;34m\u001b[0m\u001b[0;34m\u001b[0m\u001b[0m\n\u001b[1;32m      9\u001b[0m             \u001b[0;31m# add only the number of weeks to the list\u001b[0m\u001b[0;34m\u001b[0m\u001b[0;34m\u001b[0m\u001b[0;34m\u001b[0m\u001b[0m\n\u001b[0;32m---> 10\u001b[0;31m             \u001b[0mweeks\u001b[0m\u001b[0;34m.\u001b[0m\u001b[0mappend\u001b[0m\u001b[0;34m(\u001b[0m\u001b[0mint\u001b[0m\u001b[0;34m(\u001b[0m\u001b[0mweeks_data\u001b[0m\u001b[0;34m[\u001b[0m\u001b[0mn\u001b[0m\u001b[0;34m]\u001b[0m\u001b[0;34m.\u001b[0m\u001b[0mtext\u001b[0m\u001b[0;34m[\u001b[0m\u001b[0;36m7\u001b[0m\u001b[0;34m:\u001b[0m\u001b[0;36m9\u001b[0m\u001b[0;34m]\u001b[0m\u001b[0;34m)\u001b[0m\u001b[0;34m)\u001b[0m\u001b[0;34m\u001b[0m\u001b[0;34m\u001b[0m\u001b[0m\n\u001b[0m\u001b[1;32m     11\u001b[0m         \u001b[0;32melse\u001b[0m\u001b[0;34m:\u001b[0m \u001b[0;31m# some pages show an extra class:tenancy line with no info for rentpa or weeks\u001b[0m\u001b[0;34m\u001b[0m\u001b[0;34m\u001b[0m\u001b[0m\n\u001b[1;32m     12\u001b[0m             \u001b[0;32mpass\u001b[0m\u001b[0;34m\u001b[0m\u001b[0;34m\u001b[0m\u001b[0m\n",
      "\u001b[0;31mValueError\u001b[0m: invalid literal for int() with base 10: 'Fl'"
     ]
    }
   ],
   "source": [
    "for n in list(range(len(df_urls))):\n",
    "    # Make a get request to retrieve the nth property's url page\n",
    "    html_page = requests.get(df_urls['url'][n])\n",
    "\n",
    "    # Pass the page contents to beautiful soup for parsing\n",
    "    soup = bs(html_page.text, 'html.parser')\n",
    "    \n",
    "    # Build df_temp of nth property\n",
    "    df_temp = func_build_df_temp(n, soup)\n",
    "    \n",
    "    # Concatenate (add) df_temp to df\n",
    "    df = pd.concat([df, df_temp])        \n",
    "\n",
    "    # Clear df_temp\n",
    "    df_temp = pd.DataFrame(columns=cols)"
   ]
  },
  {
   "cell_type": "markdown",
   "id": "4e5f8c20",
   "metadata": {},
   "source": [
    "# Export df as csv file"
   ]
  },
  {
   "cell_type": "code",
   "execution_count": null,
   "id": "d615dc88",
   "metadata": {
    "ExecuteTime": {
     "end_time": "2021-12-22T16:40:37.178894Z",
     "start_time": "2021-12-22T16:40:37.178874Z"
    }
   },
   "outputs": [],
   "source": [
    "csv_name = '../data/{}_student_accommodation_data.csv'.format(university)\n",
    "df.to_csv(csv_name, index=False)"
   ]
  },
  {
   "cell_type": "markdown",
   "id": "c94c1a7c",
   "metadata": {},
   "source": [
    "STILL TO FIX"
   ]
  },
  {
   "cell_type": "markdown",
   "id": "2298ed7a",
   "metadata": {},
   "source": [
    "* Edinburgh example had an issue with the text extraction from weeks.  wasnt in base 10.  maybe need to just extract the numbers, and the first numbers at that (in case its 44 or 55 weeks).  \n",
    "\n",
    "* Problem comes from when it only gives price pw, and flexible tenancy, price pa from £0.  like this [edinbrugh portsborough](https://www.mystudenthalls.com/student-accommodation/edinburgh/portsburgh-court/)\n",
    "* need to decide if just take price pw x 51 or x 44 to keep it simple\n",
    "    * make another if statement for this"
   ]
  },
  {
   "cell_type": "markdown",
   "id": "aa2a055d",
   "metadata": {},
   "source": [
    "* Make it really easily useable by james"
   ]
  },
  {
   "cell_type": "code",
   "execution_count": null,
   "id": "3d41e8d1",
   "metadata": {},
   "outputs": [],
   "source": []
  },
  {
   "cell_type": "code",
   "execution_count": null,
   "id": "813ef2b9",
   "metadata": {},
   "outputs": [],
   "source": []
  }
 ],
 "metadata": {
  "kernelspec": {
   "display_name": "Python 3 (ipykernel)",
   "language": "python",
   "name": "python3"
  },
  "language_info": {
   "codemirror_mode": {
    "name": "ipython",
    "version": 3
   },
   "file_extension": ".py",
   "mimetype": "text/x-python",
   "name": "python",
   "nbconvert_exporter": "python",
   "pygments_lexer": "ipython3",
   "version": "3.8.5"
  },
  "toc": {
   "base_numbering": 1,
   "nav_menu": {},
   "number_sections": true,
   "sideBar": true,
   "skip_h1_title": false,
   "title_cell": "Table of Contents",
   "title_sidebar": "Contents",
   "toc_cell": false,
   "toc_position": {},
   "toc_section_display": true,
   "toc_window_display": false
  },
  "varInspector": {
   "cols": {
    "lenName": 16,
    "lenType": 16,
    "lenVar": 40
   },
   "kernels_config": {
    "python": {
     "delete_cmd_postfix": "",
     "delete_cmd_prefix": "del ",
     "library": "var_list.py",
     "varRefreshCmd": "print(var_dic_list())"
    },
    "r": {
     "delete_cmd_postfix": ") ",
     "delete_cmd_prefix": "rm(",
     "library": "var_list.r",
     "varRefreshCmd": "cat(var_dic_list()) "
    }
   },
   "types_to_exclude": [
    "module",
    "function",
    "builtin_function_or_method",
    "instance",
    "_Feature"
   ],
   "window_display": false
  }
 },
 "nbformat": 4,
 "nbformat_minor": 5
}
